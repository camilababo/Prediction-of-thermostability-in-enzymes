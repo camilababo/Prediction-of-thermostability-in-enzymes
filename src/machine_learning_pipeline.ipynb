{
 "cells": [
  {
   "cell_type": "markdown",
   "metadata": {
    "id": "pTcMfXZlZFwv"
   },
   "source": [
    "# Novozymes Enzyme Stability Prediction\n",
    "\n",
    "This challenge was proposed in the scope of an assigment regarding machine learning-based data analysis of the curricular unit \"Intelligent Systems for Bioinformatics\" integrated in the Bioinformatics Master Degree at University of Minho, 2022-2023. The code was developed by Group 6 composed of: \n",
    "\n",
    "*   Ana Camila Ribeiro de Babo, PG45964;\n",
    "*   Tomás Carreiró Carvalho Silva e Sá, PG45477;\n",
    "*   José Diogo Cruz de Moura, PG45965.\n",
    "\n",
    "The challenge was part of a Kaggle competition with the goal to predict the thermostability of enzyme variants through the use of natural and engineered sequences with single or multiple mutations whose thermostability was experimentally measured."
   ]
  },
  {
   "cell_type": "markdown",
   "metadata": {
    "collapsed": false,
    "id": "-T8DHqfU1FF0"
   },
   "source": [
    "## Overview\n",
    "\n",
    "Enzymes are proteins that catalyze chemical reactions in living organisms. They are important for a variety of biological processes, including metabolism, digestion, and gene expression. Enzymes are also used in a wide range of industrial applications, as they can accelerate chemical reactions and improve the efficiency of processes such as food processing, textile manufacturing, and pharmaceutical production.\n",
    "\n",
    "One important characteristic of enzymes is their thermostability, which refers to their ability to maintain their activity over a range of temperatures. Predicting enzyme thermostability is important in order to optimize the use of enzymes in industrial processes and to ensure their sustainability. If enzymes are not stable at the temperature at which they are used, they may denature and lose their activity, which can lead to decreased efficiency and increased waste. By predicting enzyme thermostability, it is possible to select enzymes that are suitable for specific industrial processes and to optimize the conditions under which they are used.\n",
    "\n",
    "Optimizing the thermostability of enzymes can also have environmental benefits, as it can reduce the energy required to operate industrial processes and minimize the production of waste. By using enzymes that are stable at lower temperatures, it may be possible to reduce the energy needed to maintain optimal conditions for enzyme activity. Similarly, using enzymes that are stable over a wider range of temperatures may allow for more flexibility in the design of industrial processes and may lead to more efficient and sustainable operations.\n",
    "\n",
    "In conclusion, predicting enzyme thermostability is important for optimizing the use of enzymes in industrial processes and for ensuring their sustainability. By selecting enzymes that are stable at the temperatures at which they are used, it is possible to improve the efficiency of industrial processes and to minimize waste and energy consumption."
   ]
  },
  {
   "cell_type": "markdown",
   "metadata": {
    "collapsed": false,
    "id": "Oc9tRujH1FF2"
   },
   "source": [
    "### Dataset features\n",
    "\n",
    "**seq_id**: Unique identifier of each protein variants.\n",
    "\n",
    "**protein_sequence**: Amino acid sequence of each protein variant. The stability (as measured by tm) of protein is determined by its protein sequence. (Please note that most of the sequences in the test data have the same length of 221 amino acids, but some of them have 220 because of amino acid deletion.)\n",
    "\n",
    "**pH**: The scale used to specify the acidity of an aqueous solution under which the stability of protein was measured. Stability of the same protein can change at different pH levels.\n",
    "\n",
    "**data_source**: Source where the data was published.\n",
    "\n",
    "**tm**: Target column. Since only the spearman correlation will be used for the evaluation, the correct prediction of the relative order is more important than the absolute tm values. (Higher tm means the protein variant is more stable.)\n"
   ]
  },
  {
   "cell_type": "markdown",
   "metadata": {
    "id": "GDAcBGBtYZX1"
   },
   "source": [
    "## Data Exploration and Pre-processing\n",
    "\n",
    "\n",
    "The first step of this work involves importing the datasets and the necessary libraries to perform an exploratory data analysis in order to retrieve insights from the data and possibly find patterns and/or anomalies. We will also do apply some pre-processing techniques to transform the data in the most efficient way for the ML pipeline."
   ]
  },
  {
   "cell_type": "code",
   "execution_count": null,
   "metadata": {
    "id": "nqvRcoGN1FF3"
   },
   "outputs": [],
   "source": [
    "# imports\n",
    "import pandas as pd\n",
    "import numpy as np\n",
    "import seaborn as sns\n",
    "from matplotlib import pyplot as plt\n",
    "from sklearn import preprocessing\n",
    "#from propythia.sequence import ReadSequence\n",
    "#from propythia.protein_descriptores import ProteinDescritors\n",
    "from sklearn.decomposition import PCA\n",
    "from sklearn.feature_selection import VarianceThreshold\n",
    "from sklearn.manifold import TSNE\n",
    "from sklearn.cluster import KMeans\n",
    "import matplotlib.cm as cm\n",
    "from sklearn.metrics import silhouette_score"
   ]
  },
  {
   "cell_type": "code",
   "execution_count": null,
   "metadata": {
    "id": "Gtv3x-TbYF23"
   },
   "outputs": [],
   "source": [
    "# import the training and testing set\n",
    "original_train_df = pd.read_csv(\"../data_files/train.csv\")\n",
    "test_df = pd.read_csv(\"../data_files/test.csv\")"
   ]
  },
  {
   "cell_type": "code",
   "execution_count": null,
   "metadata": {
    "id": "EWvRXZRd1FF6"
   },
   "outputs": [],
   "source": [
    "# import the updated training set\n",
    "# the initially given training dataset had inaccuracies in some entries and, as such, the competition staff uploaded a file with corrections\n",
    "updated_train_df = pd.read_csv(\"../data_files/train_updates_20220929.csv\")"
   ]
  },
  {
   "cell_type": "markdown",
   "metadata": {
    "id": "z6LiIbXqXqZ8"
   },
   "source": [
    "### Training dataset"
   ]
  },
  {
   "cell_type": "code",
   "execution_count": null,
   "metadata": {
    "id": "l3q-wlIp1FF8",
    "outputId": "b14e667d-71a9-4f9c-b5b3-49584aceba2e"
   },
   "outputs": [
    {
     "name": "stdout",
     "output_type": "stream",
     "text": [
      "The shape of the training dataset is (31390, 4)\n"
     ]
    }
   ],
   "source": [
    "# checking the shape of the training dataset\n",
    "original_train_df = original_train_df.set_index(\"seq_id\")\n",
    "print(f\"The shape of the training dataset is {original_train_df.shape}\")"
   ]
  },
  {
   "cell_type": "code",
   "execution_count": null,
   "metadata": {
    "id": "GwqBPhbu1FF-",
    "outputId": "0afd4142-1fa0-4056-9e56-6a297297e070"
   },
   "outputs": [
    {
     "data": {
      "text/html": [
       "<div>\n",
       "<style scoped>\n",
       "    .dataframe tbody tr th:only-of-type {\n",
       "        vertical-align: middle;\n",
       "    }\n",
       "\n",
       "    .dataframe tbody tr th {\n",
       "        vertical-align: top;\n",
       "    }\n",
       "\n",
       "    .dataframe thead th {\n",
       "        text-align: right;\n",
       "    }\n",
       "</style>\n",
       "<table border=\"1\" class=\"dataframe\">\n",
       "  <thead>\n",
       "    <tr style=\"text-align: right;\">\n",
       "      <th></th>\n",
       "      <th>protein_sequence</th>\n",
       "      <th>pH</th>\n",
       "      <th>data_source</th>\n",
       "      <th>tm</th>\n",
       "    </tr>\n",
       "    <tr>\n",
       "      <th>seq_id</th>\n",
       "      <th></th>\n",
       "      <th></th>\n",
       "      <th></th>\n",
       "      <th></th>\n",
       "    </tr>\n",
       "  </thead>\n",
       "  <tbody>\n",
       "    <tr>\n",
       "      <th>0</th>\n",
       "      <td>AAAAKAAALALLGEAPEVVDIWLPAGWRQPFRVFRLERKGDGVLVG...</td>\n",
       "      <td>7.0</td>\n",
       "      <td>doi.org/10.1038/s41592-020-0801-4</td>\n",
       "      <td>75.7</td>\n",
       "    </tr>\n",
       "    <tr>\n",
       "      <th>1</th>\n",
       "      <td>AAADGEPLHNEEERAGAGQVGRSLPQESEEQRTGSRPRRRRDLGSR...</td>\n",
       "      <td>7.0</td>\n",
       "      <td>doi.org/10.1038/s41592-020-0801-4</td>\n",
       "      <td>50.5</td>\n",
       "    </tr>\n",
       "    <tr>\n",
       "      <th>2</th>\n",
       "      <td>AAAFSTPRATSYRILSSAGSGSTRADAPQVRRLHTTRDLLAKDYYA...</td>\n",
       "      <td>7.0</td>\n",
       "      <td>doi.org/10.1038/s41592-020-0801-4</td>\n",
       "      <td>40.5</td>\n",
       "    </tr>\n",
       "    <tr>\n",
       "      <th>3</th>\n",
       "      <td>AAASGLRTAIPAQPLRHLLQPAPRPCLRPFGLLSVRAGSARRSGLL...</td>\n",
       "      <td>7.0</td>\n",
       "      <td>doi.org/10.1038/s41592-020-0801-4</td>\n",
       "      <td>47.2</td>\n",
       "    </tr>\n",
       "    <tr>\n",
       "      <th>4</th>\n",
       "      <td>AAATKSGPRRQSQGASVRTFTPFYFLVEPVDTLSVRGSSVILNCSA...</td>\n",
       "      <td>7.0</td>\n",
       "      <td>doi.org/10.1038/s41592-020-0801-4</td>\n",
       "      <td>49.5</td>\n",
       "    </tr>\n",
       "  </tbody>\n",
       "</table>\n",
       "</div>"
      ],
      "text/plain": [
       "                                         protein_sequence   pH  \\\n",
       "seq_id                                                           \n",
       "0       AAAAKAAALALLGEAPEVVDIWLPAGWRQPFRVFRLERKGDGVLVG...  7.0   \n",
       "1       AAADGEPLHNEEERAGAGQVGRSLPQESEEQRTGSRPRRRRDLGSR...  7.0   \n",
       "2       AAAFSTPRATSYRILSSAGSGSTRADAPQVRRLHTTRDLLAKDYYA...  7.0   \n",
       "3       AAASGLRTAIPAQPLRHLLQPAPRPCLRPFGLLSVRAGSARRSGLL...  7.0   \n",
       "4       AAATKSGPRRQSQGASVRTFTPFYFLVEPVDTLSVRGSSVILNCSA...  7.0   \n",
       "\n",
       "                              data_source    tm  \n",
       "seq_id                                           \n",
       "0       doi.org/10.1038/s41592-020-0801-4  75.7  \n",
       "1       doi.org/10.1038/s41592-020-0801-4  50.5  \n",
       "2       doi.org/10.1038/s41592-020-0801-4  40.5  \n",
       "3       doi.org/10.1038/s41592-020-0801-4  47.2  \n",
       "4       doi.org/10.1038/s41592-020-0801-4  49.5  "
      ]
     },
     "execution_count": 31,
     "metadata": {},
     "output_type": "execute_result"
    }
   ],
   "source": [
    "# checking the structure of the dataset\n",
    "original_train_df.head()"
   ]
  },
  {
   "cell_type": "code",
   "execution_count": null,
   "metadata": {
    "colab": {
     "base_uri": "https://localhost:8080/",
     "height": 508
    },
    "id": "fItkczixLBrz",
    "outputId": "0ddf1a93-da73-4a6b-ea85-f715de1a41de"
   },
   "outputs": [
    {
     "name": "stdout",
     "output_type": "stream",
     "text": [
      "<class 'pandas.core.frame.DataFrame'>\n",
      "Int64Index: 31390 entries, 0 to 31389\n",
      "Data columns (total 4 columns):\n",
      " #   Column            Non-Null Count  Dtype  \n",
      "---  ------            --------------  -----  \n",
      " 0   protein_sequence  31390 non-null  object \n",
      " 1   pH                31104 non-null  float64\n",
      " 2   data_source       28043 non-null  object \n",
      " 3   tm                31390 non-null  float64\n",
      "dtypes: float64(2), object(2)\n",
      "memory usage: 1.2+ MB\n"
     ]
    },
    {
     "data": {
      "text/html": [
       "<div>\n",
       "<style scoped>\n",
       "    .dataframe tbody tr th:only-of-type {\n",
       "        vertical-align: middle;\n",
       "    }\n",
       "\n",
       "    .dataframe tbody tr th {\n",
       "        vertical-align: top;\n",
       "    }\n",
       "\n",
       "    .dataframe thead th {\n",
       "        text-align: right;\n",
       "    }\n",
       "</style>\n",
       "<table border=\"1\" class=\"dataframe\">\n",
       "  <thead>\n",
       "    <tr style=\"text-align: right;\">\n",
       "      <th></th>\n",
       "      <th>pH</th>\n",
       "      <th>tm</th>\n",
       "    </tr>\n",
       "  </thead>\n",
       "  <tbody>\n",
       "    <tr>\n",
       "      <th>count</th>\n",
       "      <td>31104.000000</td>\n",
       "      <td>31390.000000</td>\n",
       "    </tr>\n",
       "    <tr>\n",
       "      <th>mean</th>\n",
       "      <td>6.892339</td>\n",
       "      <td>49.147337</td>\n",
       "    </tr>\n",
       "    <tr>\n",
       "      <th>std</th>\n",
       "      <td>1.612225</td>\n",
       "      <td>14.010089</td>\n",
       "    </tr>\n",
       "    <tr>\n",
       "      <th>min</th>\n",
       "      <td>1.990000</td>\n",
       "      <td>-1.000000</td>\n",
       "    </tr>\n",
       "    <tr>\n",
       "      <th>25%</th>\n",
       "      <td>7.000000</td>\n",
       "      <td>42.100000</td>\n",
       "    </tr>\n",
       "    <tr>\n",
       "      <th>50%</th>\n",
       "      <td>7.000000</td>\n",
       "      <td>48.000000</td>\n",
       "    </tr>\n",
       "    <tr>\n",
       "      <th>75%</th>\n",
       "      <td>7.000000</td>\n",
       "      <td>53.800000</td>\n",
       "    </tr>\n",
       "    <tr>\n",
       "      <th>max</th>\n",
       "      <td>64.900000</td>\n",
       "      <td>130.000000</td>\n",
       "    </tr>\n",
       "  </tbody>\n",
       "</table>\n",
       "</div>"
      ],
      "text/plain": [
       "                 pH            tm\n",
       "count  31104.000000  31390.000000\n",
       "mean       6.892339     49.147337\n",
       "std        1.612225     14.010089\n",
       "min        1.990000     -1.000000\n",
       "25%        7.000000     42.100000\n",
       "50%        7.000000     48.000000\n",
       "75%        7.000000     53.800000\n",
       "max       64.900000    130.000000"
      ]
     },
     "execution_count": 32,
     "metadata": {},
     "output_type": "execute_result"
    }
   ],
   "source": [
    "# gather information about the training set\n",
    "original_train_df.info()\n",
    "original_train_df.describe()"
   ]
  },
  {
   "cell_type": "code",
   "execution_count": null,
   "metadata": {
    "colab": {
     "base_uri": "https://localhost:8080/"
    },
    "id": "FLk3kbZ8LsNs",
    "outputId": "5ac1da0c-e641-4456-e56c-c7a090289a98"
   },
   "outputs": [
    {
     "data": {
      "text/plain": [
       "protein_sequence       0\n",
       "pH                   286\n",
       "data_source         3347\n",
       "tm                     0\n",
       "dtype: int64"
      ]
     },
     "execution_count": 33,
     "metadata": {},
     "output_type": "execute_result"
    }
   ],
   "source": [
    "# information about the total number of null values of each feature\n",
    "original_train_df.isnull().sum()"
   ]
  },
  {
   "cell_type": "code",
   "execution_count": null,
   "metadata": {
    "colab": {
     "base_uri": "https://localhost:8080/"
    },
    "id": "M2aIqxC9cPrB",
    "outputId": "4aee8604-b5cf-4a17-ec35-e0ac9247433e"
   },
   "outputs": [
    {
     "data": {
      "text/plain": [
       "seq_id\n",
       "973      48.4\n",
       "986      48.4\n",
       "988      49.0\n",
       "989      55.6\n",
       "1003     48.4\n",
       "1012     48.4\n",
       "1014     55.6\n",
       "1018     49.0\n",
       "1037     49.0\n",
       "1042     48.4\n",
       "1079     55.6\n",
       "1081     49.0\n",
       "1088     48.4\n",
       "1093     48.4\n",
       "1096     48.4\n",
       "1098     48.4\n",
       "1100     55.6\n",
       "1108     49.0\n",
       "1111     55.6\n",
       "1120     48.4\n",
       "1122     48.4\n",
       "1125     48.4\n",
       "13447    64.9\n",
       "13449    64.9\n",
       "14640    39.0\n",
       "22116    53.4\n",
       "22123    53.4\n",
       "22131    53.4\n",
       "22145    53.4\n",
       "Name: pH, dtype: float64"
      ]
     },
     "execution_count": 34,
     "metadata": {},
     "output_type": "execute_result"
    }
   ],
   "source": [
    "# incorrect data in the training dataset (pH and tm transposed rows)\n",
    "ph = original_train_df['pH']\n",
    "count = ph[ph > 11]\n",
    "count"
   ]
  },
  {
   "cell_type": "markdown",
   "metadata": {
    "collapsed": false,
    "id": "mLC_o2vO1FGA"
   },
   "source": [
    "### Assemble the correct training dataset"
   ]
  },
  {
   "cell_type": "code",
   "execution_count": null,
   "metadata": {
    "id": "ugr8aVMF1FGA",
    "outputId": "24ae4152-722c-4c11-b044-768ace45184e"
   },
   "outputs": [
    {
     "data": {
      "text/html": [
       "<div>\n",
       "<style scoped>\n",
       "    .dataframe tbody tr th:only-of-type {\n",
       "        vertical-align: middle;\n",
       "    }\n",
       "\n",
       "    .dataframe tbody tr th {\n",
       "        vertical-align: top;\n",
       "    }\n",
       "\n",
       "    .dataframe thead th {\n",
       "        text-align: right;\n",
       "    }\n",
       "</style>\n",
       "<table border=\"1\" class=\"dataframe\">\n",
       "  <thead>\n",
       "    <tr style=\"text-align: right;\">\n",
       "      <th></th>\n",
       "      <th>protein_sequence</th>\n",
       "      <th>pH</th>\n",
       "      <th>data_source</th>\n",
       "      <th>tm</th>\n",
       "    </tr>\n",
       "    <tr>\n",
       "      <th>seq_id</th>\n",
       "      <th></th>\n",
       "      <th></th>\n",
       "      <th></th>\n",
       "      <th></th>\n",
       "    </tr>\n",
       "  </thead>\n",
       "  <tbody>\n",
       "    <tr>\n",
       "      <th>69</th>\n",
       "      <td>NaN</td>\n",
       "      <td>NaN</td>\n",
       "      <td>NaN</td>\n",
       "      <td>NaN</td>\n",
       "    </tr>\n",
       "    <tr>\n",
       "      <th>70</th>\n",
       "      <td>NaN</td>\n",
       "      <td>NaN</td>\n",
       "      <td>NaN</td>\n",
       "      <td>NaN</td>\n",
       "    </tr>\n",
       "    <tr>\n",
       "      <th>71</th>\n",
       "      <td>NaN</td>\n",
       "      <td>NaN</td>\n",
       "      <td>NaN</td>\n",
       "      <td>NaN</td>\n",
       "    </tr>\n",
       "    <tr>\n",
       "      <th>72</th>\n",
       "      <td>NaN</td>\n",
       "      <td>NaN</td>\n",
       "      <td>NaN</td>\n",
       "      <td>NaN</td>\n",
       "    </tr>\n",
       "    <tr>\n",
       "      <th>73</th>\n",
       "      <td>NaN</td>\n",
       "      <td>NaN</td>\n",
       "      <td>NaN</td>\n",
       "      <td>NaN</td>\n",
       "    </tr>\n",
       "    <tr>\n",
       "      <th>...</th>\n",
       "      <td>...</td>\n",
       "      <td>...</td>\n",
       "      <td>...</td>\n",
       "      <td>...</td>\n",
       "    </tr>\n",
       "    <tr>\n",
       "      <th>30738</th>\n",
       "      <td>NaN</td>\n",
       "      <td>NaN</td>\n",
       "      <td>NaN</td>\n",
       "      <td>NaN</td>\n",
       "    </tr>\n",
       "    <tr>\n",
       "      <th>30739</th>\n",
       "      <td>NaN</td>\n",
       "      <td>NaN</td>\n",
       "      <td>NaN</td>\n",
       "      <td>NaN</td>\n",
       "    </tr>\n",
       "    <tr>\n",
       "      <th>30740</th>\n",
       "      <td>NaN</td>\n",
       "      <td>NaN</td>\n",
       "      <td>NaN</td>\n",
       "      <td>NaN</td>\n",
       "    </tr>\n",
       "    <tr>\n",
       "      <th>30741</th>\n",
       "      <td>NaN</td>\n",
       "      <td>NaN</td>\n",
       "      <td>NaN</td>\n",
       "      <td>NaN</td>\n",
       "    </tr>\n",
       "    <tr>\n",
       "      <th>30742</th>\n",
       "      <td>NaN</td>\n",
       "      <td>NaN</td>\n",
       "      <td>NaN</td>\n",
       "      <td>NaN</td>\n",
       "    </tr>\n",
       "  </tbody>\n",
       "</table>\n",
       "<p>2434 rows × 4 columns</p>\n",
       "</div>"
      ],
      "text/plain": [
       "       protein_sequence  pH  data_source  tm\n",
       "seq_id                                      \n",
       "69                  NaN NaN          NaN NaN\n",
       "70                  NaN NaN          NaN NaN\n",
       "71                  NaN NaN          NaN NaN\n",
       "72                  NaN NaN          NaN NaN\n",
       "73                  NaN NaN          NaN NaN\n",
       "...                 ...  ..          ...  ..\n",
       "30738               NaN NaN          NaN NaN\n",
       "30739               NaN NaN          NaN NaN\n",
       "30740               NaN NaN          NaN NaN\n",
       "30741               NaN NaN          NaN NaN\n",
       "30742               NaN NaN          NaN NaN\n",
       "\n",
       "[2434 rows x 4 columns]"
      ]
     },
     "execution_count": 35,
     "metadata": {},
     "output_type": "execute_result"
    }
   ],
   "source": [
    "train_updates = updated_train_df.set_index(\"seq_id\")\n",
    "train_updates"
   ]
  },
  {
   "cell_type": "code",
   "execution_count": null,
   "metadata": {
    "id": "bkLIFyta1FGB"
   },
   "outputs": [],
   "source": [
    "# removed unusable data (2409 entries)\n",
    "unusable_data = train_updates[train_updates.isna().all(axis=1)]\n",
    "unusable_data_ind = list(unusable_data.index.values)\n",
    "train_df = original_train_df.drop(unusable_data_ind, axis=0)"
   ]
  },
  {
   "cell_type": "code",
   "execution_count": null,
   "metadata": {
    "id": "-BOvIp_W1FGB"
   },
   "outputs": [],
   "source": [
    "# correct transposed rows (25 entries)\n",
    "transposed_data = train_updates[~train_updates.isna().all(axis=1)]\n",
    "transposed_data_ind = list(transposed_data.index.values)\n",
    "train_df.loc[transposed_data_ind] = train_updates.loc[transposed_data_ind]"
   ]
  },
  {
   "cell_type": "code",
   "execution_count": null,
   "metadata": {
    "id": "vCPEAqM-1FGC",
    "outputId": "81d3f2f2-c251-4c2a-a00e-5bbed6f3c508"
   },
   "outputs": [
    {
     "data": {
      "text/plain": [
       "0"
      ]
     },
     "execution_count": 38,
     "metadata": {},
     "output_type": "execute_result"
    }
   ],
   "source": [
    "# check if transposed values are fixed\n",
    "ph = train_df['pH']\n",
    "count = ph[ph > 11]\n",
    "len(count)"
   ]
  },
  {
   "cell_type": "code",
   "execution_count": null,
   "metadata": {
    "id": "7Y-M3SG51FGC"
   },
   "outputs": [],
   "source": [
    "# removing columns with no added value to our training set\n",
    "train_df = train_df.drop(['data_source'], axis=1)\n",
    "train_df.to_csv(\"../data_files/fixed_train_df.csv\")"
   ]
  },
  {
   "cell_type": "code",
   "execution_count": null,
   "metadata": {
    "id": "L_dJK01b1FGD",
    "outputId": "c939a85d-8655-41ac-a0a6-95ab0c495a5c"
   },
   "outputs": [
    {
     "data": {
      "text/plain": [
       "protein_sequence      0\n",
       "pH                  286\n",
       "tm                    0\n",
       "dtype: int64"
      ]
     },
     "execution_count": 40,
     "metadata": {},
     "output_type": "execute_result"
    }
   ],
   "source": [
    "# check for missing values in the final dataset\n",
    "train_df.isnull().sum()"
   ]
  },
  {
   "cell_type": "code",
   "execution_count": null,
   "metadata": {
    "id": "cB9yS0211FGD",
    "outputId": "d2b3e1f4-40ec-4887-981f-1ffd7355f34b"
   },
   "outputs": [
    {
     "name": "stdout",
     "output_type": "stream",
     "text": [
      "<class 'pandas.core.frame.DataFrame'>\n",
      "Int64Index: 28981 entries, 0 to 31389\n",
      "Data columns (total 3 columns):\n",
      " #   Column            Non-Null Count  Dtype  \n",
      "---  ------            --------------  -----  \n",
      " 0   protein_sequence  28981 non-null  object \n",
      " 1   pH                28695 non-null  float64\n",
      " 2   tm                28981 non-null  float64\n",
      "dtypes: float64(2), object(1)\n",
      "memory usage: 1.9+ MB\n"
     ]
    },
    {
     "data": {
      "text/html": [
       "<div>\n",
       "<style scoped>\n",
       "    .dataframe tbody tr th:only-of-type {\n",
       "        vertical-align: middle;\n",
       "    }\n",
       "\n",
       "    .dataframe tbody tr th {\n",
       "        vertical-align: top;\n",
       "    }\n",
       "\n",
       "    .dataframe thead th {\n",
       "        text-align: right;\n",
       "    }\n",
       "</style>\n",
       "<table border=\"1\" class=\"dataframe\">\n",
       "  <thead>\n",
       "    <tr style=\"text-align: right;\">\n",
       "      <th></th>\n",
       "      <th>pH</th>\n",
       "      <th>tm</th>\n",
       "    </tr>\n",
       "  </thead>\n",
       "  <tbody>\n",
       "    <tr>\n",
       "      <th>count</th>\n",
       "      <td>28695.000000</td>\n",
       "      <td>28981.000000</td>\n",
       "    </tr>\n",
       "    <tr>\n",
       "      <th>mean</th>\n",
       "      <td>6.872467</td>\n",
       "      <td>51.360005</td>\n",
       "    </tr>\n",
       "    <tr>\n",
       "      <th>std</th>\n",
       "      <td>0.793184</td>\n",
       "      <td>12.056717</td>\n",
       "    </tr>\n",
       "    <tr>\n",
       "      <th>min</th>\n",
       "      <td>1.990000</td>\n",
       "      <td>25.100000</td>\n",
       "    </tr>\n",
       "    <tr>\n",
       "      <th>25%</th>\n",
       "      <td>7.000000</td>\n",
       "      <td>43.600000</td>\n",
       "    </tr>\n",
       "    <tr>\n",
       "      <th>50%</th>\n",
       "      <td>7.000000</td>\n",
       "      <td>48.800000</td>\n",
       "    </tr>\n",
       "    <tr>\n",
       "      <th>75%</th>\n",
       "      <td>7.000000</td>\n",
       "      <td>54.600000</td>\n",
       "    </tr>\n",
       "    <tr>\n",
       "      <th>max</th>\n",
       "      <td>11.000000</td>\n",
       "      <td>130.000000</td>\n",
       "    </tr>\n",
       "  </tbody>\n",
       "</table>\n",
       "</div>"
      ],
      "text/plain": [
       "                 pH            tm\n",
       "count  28695.000000  28981.000000\n",
       "mean       6.872467     51.360005\n",
       "std        0.793184     12.056717\n",
       "min        1.990000     25.100000\n",
       "25%        7.000000     43.600000\n",
       "50%        7.000000     48.800000\n",
       "75%        7.000000     54.600000\n",
       "max       11.000000    130.000000"
      ]
     },
     "execution_count": 41,
     "metadata": {},
     "output_type": "execute_result"
    }
   ],
   "source": [
    "# gather information about the training set\n",
    "train_df.info()\n",
    "train_df.describe()"
   ]
  },
  {
   "cell_type": "code",
   "execution_count": null,
   "metadata": {
    "id": "PpD9b7Ew1FGE",
    "outputId": "d7c0c7c5-27f6-41a9-ea2f-8f0b97c161f8"
   },
   "outputs": [
    {
     "name": "stdout",
     "output_type": "stream",
     "text": [
      "The shape of the corrected training dataset is (28981, 3).\n"
     ]
    }
   ],
   "source": [
    "print(f\"The shape of the corrected training dataset is {train_df.shape}.\")"
   ]
  },
  {
   "cell_type": "markdown",
   "metadata": {
    "id": "kjfjtKxzXvLx"
   },
   "source": [
    "### Testing dataset\n",
    "The deadline of the Kaggle competition was missed, however the group decided to briefly explore the given dataset."
   ]
  },
  {
   "cell_type": "code",
   "execution_count": null,
   "metadata": {
    "colab": {
     "base_uri": "https://localhost:8080/",
     "height": 206
    },
    "id": "0V1rZ7jvUxd9",
    "outputId": "014ce18a-4c0c-4f1f-a998-b874d8df69c1"
   },
   "outputs": [
    {
     "data": {
      "text/html": [
       "<div>\n",
       "<style scoped>\n",
       "    .dataframe tbody tr th:only-of-type {\n",
       "        vertical-align: middle;\n",
       "    }\n",
       "\n",
       "    .dataframe tbody tr th {\n",
       "        vertical-align: top;\n",
       "    }\n",
       "\n",
       "    .dataframe thead th {\n",
       "        text-align: right;\n",
       "    }\n",
       "</style>\n",
       "<table border=\"1\" class=\"dataframe\">\n",
       "  <thead>\n",
       "    <tr style=\"text-align: right;\">\n",
       "      <th></th>\n",
       "      <th>seq_id</th>\n",
       "      <th>protein_sequence</th>\n",
       "      <th>pH</th>\n",
       "      <th>data_source</th>\n",
       "    </tr>\n",
       "  </thead>\n",
       "  <tbody>\n",
       "    <tr>\n",
       "      <th>0</th>\n",
       "      <td>31390</td>\n",
       "      <td>VPVNPEPDATSVENVAEKTGSGDSQSDPIKADLEVKGQSALPFDVD...</td>\n",
       "      <td>8</td>\n",
       "      <td>Novozymes</td>\n",
       "    </tr>\n",
       "    <tr>\n",
       "      <th>1</th>\n",
       "      <td>31391</td>\n",
       "      <td>VPVNPEPDATSVENVAKKTGSGDSQSDPIKADLEVKGQSALPFDVD...</td>\n",
       "      <td>8</td>\n",
       "      <td>Novozymes</td>\n",
       "    </tr>\n",
       "    <tr>\n",
       "      <th>2</th>\n",
       "      <td>31392</td>\n",
       "      <td>VPVNPEPDATSVENVAKTGSGDSQSDPIKADLEVKGQSALPFDVDC...</td>\n",
       "      <td>8</td>\n",
       "      <td>Novozymes</td>\n",
       "    </tr>\n",
       "    <tr>\n",
       "      <th>3</th>\n",
       "      <td>31393</td>\n",
       "      <td>VPVNPEPDATSVENVALCTGSGDSQSDPIKADLEVKGQSALPFDVD...</td>\n",
       "      <td>8</td>\n",
       "      <td>Novozymes</td>\n",
       "    </tr>\n",
       "    <tr>\n",
       "      <th>4</th>\n",
       "      <td>31394</td>\n",
       "      <td>VPVNPEPDATSVENVALFTGSGDSQSDPIKADLEVKGQSALPFDVD...</td>\n",
       "      <td>8</td>\n",
       "      <td>Novozymes</td>\n",
       "    </tr>\n",
       "  </tbody>\n",
       "</table>\n",
       "</div>"
      ],
      "text/plain": [
       "   seq_id                                   protein_sequence  pH data_source\n",
       "0   31390  VPVNPEPDATSVENVAEKTGSGDSQSDPIKADLEVKGQSALPFDVD...   8   Novozymes\n",
       "1   31391  VPVNPEPDATSVENVAKKTGSGDSQSDPIKADLEVKGQSALPFDVD...   8   Novozymes\n",
       "2   31392  VPVNPEPDATSVENVAKTGSGDSQSDPIKADLEVKGQSALPFDVDC...   8   Novozymes\n",
       "3   31393  VPVNPEPDATSVENVALCTGSGDSQSDPIKADLEVKGQSALPFDVD...   8   Novozymes\n",
       "4   31394  VPVNPEPDATSVENVALFTGSGDSQSDPIKADLEVKGQSALPFDVD...   8   Novozymes"
      ]
     },
     "execution_count": 43,
     "metadata": {},
     "output_type": "execute_result"
    }
   ],
   "source": [
    "# check testing set structure\n",
    "test_df.head()"
   ]
  },
  {
   "cell_type": "code",
   "execution_count": null,
   "metadata": {
    "colab": {
     "base_uri": "https://localhost:8080/",
     "height": 491
    },
    "id": "-3uuUHGQLoOK",
    "outputId": "f5ed60c4-a6fa-49f1-bad4-d0d95cfbd6eb"
   },
   "outputs": [
    {
     "name": "stdout",
     "output_type": "stream",
     "text": [
      "<class 'pandas.core.frame.DataFrame'>\n",
      "RangeIndex: 2413 entries, 0 to 2412\n",
      "Data columns (total 4 columns):\n",
      " #   Column            Non-Null Count  Dtype \n",
      "---  ------            --------------  ----- \n",
      " 0   seq_id            2413 non-null   int64 \n",
      " 1   protein_sequence  2413 non-null   object\n",
      " 2   pH                2413 non-null   int64 \n",
      " 3   data_source       2413 non-null   object\n",
      "dtypes: int64(2), object(2)\n",
      "memory usage: 75.5+ KB\n"
     ]
    },
    {
     "data": {
      "text/html": [
       "<div>\n",
       "<style scoped>\n",
       "    .dataframe tbody tr th:only-of-type {\n",
       "        vertical-align: middle;\n",
       "    }\n",
       "\n",
       "    .dataframe tbody tr th {\n",
       "        vertical-align: top;\n",
       "    }\n",
       "\n",
       "    .dataframe thead th {\n",
       "        text-align: right;\n",
       "    }\n",
       "</style>\n",
       "<table border=\"1\" class=\"dataframe\">\n",
       "  <thead>\n",
       "    <tr style=\"text-align: right;\">\n",
       "      <th></th>\n",
       "      <th>seq_id</th>\n",
       "      <th>pH</th>\n",
       "    </tr>\n",
       "  </thead>\n",
       "  <tbody>\n",
       "    <tr>\n",
       "      <th>count</th>\n",
       "      <td>2413.000000</td>\n",
       "      <td>2413.0</td>\n",
       "    </tr>\n",
       "    <tr>\n",
       "      <th>mean</th>\n",
       "      <td>32596.000000</td>\n",
       "      <td>8.0</td>\n",
       "    </tr>\n",
       "    <tr>\n",
       "      <th>std</th>\n",
       "      <td>696.717422</td>\n",
       "      <td>0.0</td>\n",
       "    </tr>\n",
       "    <tr>\n",
       "      <th>min</th>\n",
       "      <td>31390.000000</td>\n",
       "      <td>8.0</td>\n",
       "    </tr>\n",
       "    <tr>\n",
       "      <th>25%</th>\n",
       "      <td>31993.000000</td>\n",
       "      <td>8.0</td>\n",
       "    </tr>\n",
       "    <tr>\n",
       "      <th>50%</th>\n",
       "      <td>32596.000000</td>\n",
       "      <td>8.0</td>\n",
       "    </tr>\n",
       "    <tr>\n",
       "      <th>75%</th>\n",
       "      <td>33199.000000</td>\n",
       "      <td>8.0</td>\n",
       "    </tr>\n",
       "    <tr>\n",
       "      <th>max</th>\n",
       "      <td>33802.000000</td>\n",
       "      <td>8.0</td>\n",
       "    </tr>\n",
       "  </tbody>\n",
       "</table>\n",
       "</div>"
      ],
      "text/plain": [
       "             seq_id      pH\n",
       "count   2413.000000  2413.0\n",
       "mean   32596.000000     8.0\n",
       "std      696.717422     0.0\n",
       "min    31390.000000     8.0\n",
       "25%    31993.000000     8.0\n",
       "50%    32596.000000     8.0\n",
       "75%    33199.000000     8.0\n",
       "max    33802.000000     8.0"
      ]
     },
     "execution_count": 44,
     "metadata": {},
     "output_type": "execute_result"
    }
   ],
   "source": [
    "# checking testing set data types and feature ranges\n",
    "test_df.info()\n",
    "test_df.describe()"
   ]
  },
  {
   "cell_type": "code",
   "execution_count": null,
   "metadata": {
    "id": "81yp5jAu1FGG"
   },
   "outputs": [],
   "source": [
    "# removing columns with no added value to our training set\n",
    "test_df = test_df.drop(['data_source', 'pH'], axis=1)"
   ]
  },
  {
   "cell_type": "code",
   "execution_count": null,
   "metadata": {
    "colab": {
     "base_uri": "https://localhost:8080/"
    },
    "id": "HG0hPKr9NE20",
    "outputId": "0260de58-5f52-4876-8356-04b0f62f9f1c"
   },
   "outputs": [
    {
     "name": "stdout",
     "output_type": "stream",
     "text": [
      "The shape of the training and testing dataset is (28981, 3) and (2413, 2), respectively.\n"
     ]
    }
   ],
   "source": [
    "# get the shape of the datasets\n",
    "print(f\"The shape of the training and testing dataset is {train_df.shape} and {test_df.shape}, respectively.\")"
   ]
  },
  {
   "cell_type": "markdown",
   "metadata": {
    "id": "kaMW7ilI-7ik"
   },
   "source": [
    "### Feature engineering\n",
    "The training dataset only has two variables, so it is best to create features that are more meaningful for the task at hand to obtain better result in the machine learning model. We will resort to the propythia package to generate basic features such as sequence length, and aminoacid composition and other physicochemical properties. For this we will use the get_all() method to calculate all available descriptors in the package. The cells in these section are commented as the running time of this process is extended. The obtained dataframe can be checked on the resources path under the name \"train_df_descriptors.csv\"."
   ]
  },
  {
   "cell_type": "code",
   "execution_count": null,
   "metadata": {
    "id": "0l3Miaev1FGG"
   },
   "outputs": [],
   "source": [
    "#seq_preprocess = ReadSequence().par_preprocessing(dataset=train_df, col='protein_sequence')\n",
    "#seq_preprocess"
   ]
  },
  {
   "cell_type": "code",
   "execution_count": null,
   "metadata": {
    "id": "hA2IUkhH1FGH"
   },
   "outputs": [],
   "source": [
    "#descriptors_df = ProteinDescritors(dataset= seq_preprocess, col= 'protein_sequence')\n",
    "#descriptors_df.dataset.head()"
   ]
  },
  {
   "cell_type": "code",
   "execution_count": null,
   "metadata": {
    "id": "VY3pCcMs1FGH"
   },
   "outputs": [],
   "source": [
    "#descriptors_df.get_all()"
   ]
  },
  {
   "cell_type": "code",
   "execution_count": null,
   "metadata": {
    "id": "Zzhoi2cE1FGH"
   },
   "outputs": [],
   "source": [
    "#train_df_descriptors = descriptors_df.to_csv(\"../data_files/train_df_descriptors.csv\")"
   ]
  },
  {
   "cell_type": "code",
   "execution_count": null,
   "metadata": {
    "id": "dSFYtYgI1FGH"
   },
   "outputs": [],
   "source": [
    "# Read the saved descriptors file\n",
    "train_df = pd.read_csv(\"train_df_descriptors.csv\")"
   ]
  },
  {
   "cell_type": "code",
   "execution_count": null,
   "metadata": {
    "colab": {
     "base_uri": "https://localhost:8080/",
     "height": 317
    },
    "id": "iE9w9wLH1FGH",
    "outputId": "03f49b3c-45c4-46ac-b741-b22c9568392f"
   },
   "outputs": [
    {
     "data": {
      "text/html": [
       "\n",
       "  <div id=\"df-43fb2702-923b-4cd5-ba5d-f3749f7db73d\">\n",
       "    <div class=\"colab-df-container\">\n",
       "      <div>\n",
       "<style scoped>\n",
       "    .dataframe tbody tr th:only-of-type {\n",
       "        vertical-align: middle;\n",
       "    }\n",
       "\n",
       "    .dataframe tbody tr th {\n",
       "        vertical-align: top;\n",
       "    }\n",
       "\n",
       "    .dataframe thead th {\n",
       "        text-align: right;\n",
       "    }\n",
       "</style>\n",
       "<table border=\"1\" class=\"dataframe\">\n",
       "  <thead>\n",
       "    <tr style=\"text-align: right;\">\n",
       "      <th></th>\n",
       "      <th>Unnamed: 0</th>\n",
       "      <th>seq_id</th>\n",
       "      <th>protein_sequence</th>\n",
       "      <th>pH</th>\n",
       "      <th>tm</th>\n",
       "      <th>length</th>\n",
       "      <th>charge</th>\n",
       "      <th>charge_density</th>\n",
       "      <th>C</th>\n",
       "      <th>H</th>\n",
       "      <th>...</th>\n",
       "      <th>modlAMP_cross_correlation_7</th>\n",
       "      <th>moment</th>\n",
       "      <th>global</th>\n",
       "      <th>profile_1</th>\n",
       "      <th>profile_2</th>\n",
       "      <th>arc_1</th>\n",
       "      <th>arc_2</th>\n",
       "      <th>arc_3</th>\n",
       "      <th>arc_4</th>\n",
       "      <th>arc_5</th>\n",
       "    </tr>\n",
       "  </thead>\n",
       "  <tbody>\n",
       "    <tr>\n",
       "      <th>0</th>\n",
       "      <td>0</td>\n",
       "      <td>0</td>\n",
       "      <td>AAAAKAAALALLGEAPEVVDIWLPAGWRQPFRVFRLERKGDGVLVG...</td>\n",
       "      <td>7.0</td>\n",
       "      <td>75.7</td>\n",
       "      <td>341.0</td>\n",
       "      <td>-2.034</td>\n",
       "      <td>-0.000056</td>\n",
       "      <td>1628</td>\n",
       "      <td>2641</td>\n",
       "      <td>...</td>\n",
       "      <td>-0.025605</td>\n",
       "      <td>1.003611</td>\n",
       "      <td>0.900000</td>\n",
       "      <td>0.000076</td>\n",
       "      <td>0.405470</td>\n",
       "      <td>180.0</td>\n",
       "      <td>100.0</td>\n",
       "      <td>80.0</td>\n",
       "      <td>40.0</td>\n",
       "      <td>20.0</td>\n",
       "    </tr>\n",
       "    <tr>\n",
       "      <th>1</th>\n",
       "      <td>1</td>\n",
       "      <td>1</td>\n",
       "      <td>AAADGEPLHNEEERAGAGQVGRSLPQESEEQRTGSRPRRRRDLGSR...</td>\n",
       "      <td>7.0</td>\n",
       "      <td>50.5</td>\n",
       "      <td>286.0</td>\n",
       "      <td>-12.829</td>\n",
       "      <td>-0.000391</td>\n",
       "      <td>1407</td>\n",
       "      <td>2290</td>\n",
       "      <td>...</td>\n",
       "      <td>0.111786</td>\n",
       "      <td>1.001062</td>\n",
       "      <td>0.682857</td>\n",
       "      <td>-0.000238</td>\n",
       "      <td>0.422289</td>\n",
       "      <td>100.0</td>\n",
       "      <td>260.0</td>\n",
       "      <td>140.0</td>\n",
       "      <td>80.0</td>\n",
       "      <td>20.0</td>\n",
       "    </tr>\n",
       "    <tr>\n",
       "      <th>2</th>\n",
       "      <td>2</td>\n",
       "      <td>2</td>\n",
       "      <td>AAAFSTPRATSYRILSSAGSGSTRADAPQVRRLHTTRDLLAKDYYA...</td>\n",
       "      <td>7.0</td>\n",
       "      <td>40.5</td>\n",
       "      <td>497.0</td>\n",
       "      <td>10.034</td>\n",
       "      <td>0.000188</td>\n",
       "      <td>2315</td>\n",
       "      <td>3634</td>\n",
       "      <td>...</td>\n",
       "      <td>0.066082</td>\n",
       "      <td>0.919682</td>\n",
       "      <td>0.714286</td>\n",
       "      <td>-0.000355</td>\n",
       "      <td>0.423927</td>\n",
       "      <td>120.0</td>\n",
       "      <td>240.0</td>\n",
       "      <td>60.0</td>\n",
       "      <td>60.0</td>\n",
       "      <td>40.0</td>\n",
       "    </tr>\n",
       "    <tr>\n",
       "      <th>3</th>\n",
       "      <td>3</td>\n",
       "      <td>3</td>\n",
       "      <td>AAASGLRTAIPAQPLRHLLQPAPRPCLRPFGLLSVRAGSARRSGLL...</td>\n",
       "      <td>7.0</td>\n",
       "      <td>47.2</td>\n",
       "      <td>265.0</td>\n",
       "      <td>-21.484</td>\n",
       "      <td>-0.000729</td>\n",
       "      <td>1302</td>\n",
       "      <td>2033</td>\n",
       "      <td>...</td>\n",
       "      <td>-0.016905</td>\n",
       "      <td>0.944495</td>\n",
       "      <td>0.702857</td>\n",
       "      <td>-0.000301</td>\n",
       "      <td>0.393669</td>\n",
       "      <td>100.0</td>\n",
       "      <td>200.0</td>\n",
       "      <td>60.0</td>\n",
       "      <td>60.0</td>\n",
       "      <td>60.0</td>\n",
       "    </tr>\n",
       "    <tr>\n",
       "      <th>4</th>\n",
       "      <td>4</td>\n",
       "      <td>4</td>\n",
       "      <td>AAATKSGPRRQSQGASVRTFTPFYFLVEPVDTLSVRGSSVILNCSA...</td>\n",
       "      <td>7.0</td>\n",
       "      <td>49.5</td>\n",
       "      <td>1451.0</td>\n",
       "      <td>-25.564</td>\n",
       "      <td>-0.000161</td>\n",
       "      <td>7002</td>\n",
       "      <td>11031</td>\n",
       "      <td>...</td>\n",
       "      <td>0.028163</td>\n",
       "      <td>0.992958</td>\n",
       "      <td>1.185714</td>\n",
       "      <td>-0.000028</td>\n",
       "      <td>0.323234</td>\n",
       "      <td>140.0</td>\n",
       "      <td>240.0</td>\n",
       "      <td>80.0</td>\n",
       "      <td>100.0</td>\n",
       "      <td>80.0</td>\n",
       "    </tr>\n",
       "  </tbody>\n",
       "</table>\n",
       "<p>5 rows × 9601 columns</p>\n",
       "</div>\n",
       "      <button class=\"colab-df-convert\" onclick=\"convertToInteractive('df-43fb2702-923b-4cd5-ba5d-f3749f7db73d')\"\n",
       "              title=\"Convert this dataframe to an interactive table.\"\n",
       "              style=\"display:none;\">\n",
       "        \n",
       "  <svg xmlns=\"http://www.w3.org/2000/svg\" height=\"24px\"viewBox=\"0 0 24 24\"\n",
       "       width=\"24px\">\n",
       "    <path d=\"M0 0h24v24H0V0z\" fill=\"none\"/>\n",
       "    <path d=\"M18.56 5.44l.94 2.06.94-2.06 2.06-.94-2.06-.94-.94-2.06-.94 2.06-2.06.94zm-11 1L8.5 8.5l.94-2.06 2.06-.94-2.06-.94L8.5 2.5l-.94 2.06-2.06.94zm10 10l.94 2.06.94-2.06 2.06-.94-2.06-.94-.94-2.06-.94 2.06-2.06.94z\"/><path d=\"M17.41 7.96l-1.37-1.37c-.4-.4-.92-.59-1.43-.59-.52 0-1.04.2-1.43.59L10.3 9.45l-7.72 7.72c-.78.78-.78 2.05 0 2.83L4 21.41c.39.39.9.59 1.41.59.51 0 1.02-.2 1.41-.59l7.78-7.78 2.81-2.81c.8-.78.8-2.07 0-2.86zM5.41 20L4 18.59l7.72-7.72 1.47 1.35L5.41 20z\"/>\n",
       "  </svg>\n",
       "      </button>\n",
       "      \n",
       "  <style>\n",
       "    .colab-df-container {\n",
       "      display:flex;\n",
       "      flex-wrap:wrap;\n",
       "      gap: 12px;\n",
       "    }\n",
       "\n",
       "    .colab-df-convert {\n",
       "      background-color: #E8F0FE;\n",
       "      border: none;\n",
       "      border-radius: 50%;\n",
       "      cursor: pointer;\n",
       "      display: none;\n",
       "      fill: #1967D2;\n",
       "      height: 32px;\n",
       "      padding: 0 0 0 0;\n",
       "      width: 32px;\n",
       "    }\n",
       "\n",
       "    .colab-df-convert:hover {\n",
       "      background-color: #E2EBFA;\n",
       "      box-shadow: 0px 1px 2px rgba(60, 64, 67, 0.3), 0px 1px 3px 1px rgba(60, 64, 67, 0.15);\n",
       "      fill: #174EA6;\n",
       "    }\n",
       "\n",
       "    [theme=dark] .colab-df-convert {\n",
       "      background-color: #3B4455;\n",
       "      fill: #D2E3FC;\n",
       "    }\n",
       "\n",
       "    [theme=dark] .colab-df-convert:hover {\n",
       "      background-color: #434B5C;\n",
       "      box-shadow: 0px 1px 3px 1px rgba(0, 0, 0, 0.15);\n",
       "      filter: drop-shadow(0px 1px 2px rgba(0, 0, 0, 0.3));\n",
       "      fill: #FFFFFF;\n",
       "    }\n",
       "  </style>\n",
       "\n",
       "      <script>\n",
       "        const buttonEl =\n",
       "          document.querySelector('#df-43fb2702-923b-4cd5-ba5d-f3749f7db73d button.colab-df-convert');\n",
       "        buttonEl.style.display =\n",
       "          google.colab.kernel.accessAllowed ? 'block' : 'none';\n",
       "\n",
       "        async function convertToInteractive(key) {\n",
       "          const element = document.querySelector('#df-43fb2702-923b-4cd5-ba5d-f3749f7db73d');\n",
       "          const dataTable =\n",
       "            await google.colab.kernel.invokeFunction('convertToInteractive',\n",
       "                                                     [key], {});\n",
       "          if (!dataTable) return;\n",
       "\n",
       "          const docLinkHtml = 'Like what you see? Visit the ' +\n",
       "            '<a target=\"_blank\" href=https://colab.research.google.com/notebooks/data_table.ipynb>data table notebook</a>'\n",
       "            + ' to learn more about interactive tables.';\n",
       "          element.innerHTML = '';\n",
       "          dataTable['output_type'] = 'display_data';\n",
       "          await google.colab.output.renderOutput(dataTable, element);\n",
       "          const docLink = document.createElement('div');\n",
       "          docLink.innerHTML = docLinkHtml;\n",
       "          element.appendChild(docLink);\n",
       "        }\n",
       "      </script>\n",
       "    </div>\n",
       "  </div>\n",
       "  "
      ],
      "text/plain": [
       "   Unnamed: 0  seq_id                                   protein_sequence   pH  \\\n",
       "0           0       0  AAAAKAAALALLGEAPEVVDIWLPAGWRQPFRVFRLERKGDGVLVG...  7.0   \n",
       "1           1       1  AAADGEPLHNEEERAGAGQVGRSLPQESEEQRTGSRPRRRRDLGSR...  7.0   \n",
       "2           2       2  AAAFSTPRATSYRILSSAGSGSTRADAPQVRRLHTTRDLLAKDYYA...  7.0   \n",
       "3           3       3  AAASGLRTAIPAQPLRHLLQPAPRPCLRPFGLLSVRAGSARRSGLL...  7.0   \n",
       "4           4       4  AAATKSGPRRQSQGASVRTFTPFYFLVEPVDTLSVRGSSVILNCSA...  7.0   \n",
       "\n",
       "     tm  length  charge  charge_density     C      H  ...  \\\n",
       "0  75.7   341.0  -2.034       -0.000056  1628   2641  ...   \n",
       "1  50.5   286.0 -12.829       -0.000391  1407   2290  ...   \n",
       "2  40.5   497.0  10.034        0.000188  2315   3634  ...   \n",
       "3  47.2   265.0 -21.484       -0.000729  1302   2033  ...   \n",
       "4  49.5  1451.0 -25.564       -0.000161  7002  11031  ...   \n",
       "\n",
       "   modlAMP_cross_correlation_7    moment    global  profile_1  profile_2  \\\n",
       "0                    -0.025605  1.003611  0.900000   0.000076   0.405470   \n",
       "1                     0.111786  1.001062  0.682857  -0.000238   0.422289   \n",
       "2                     0.066082  0.919682  0.714286  -0.000355   0.423927   \n",
       "3                    -0.016905  0.944495  0.702857  -0.000301   0.393669   \n",
       "4                     0.028163  0.992958  1.185714  -0.000028   0.323234   \n",
       "\n",
       "   arc_1  arc_2  arc_3  arc_4  arc_5  \n",
       "0  180.0  100.0   80.0   40.0   20.0  \n",
       "1  100.0  260.0  140.0   80.0   20.0  \n",
       "2  120.0  240.0   60.0   60.0   40.0  \n",
       "3  100.0  200.0   60.0   60.0   60.0  \n",
       "4  140.0  240.0   80.0  100.0   80.0  \n",
       "\n",
       "[5 rows x 9601 columns]"
      ]
     },
     "execution_count": 4,
     "metadata": {},
     "output_type": "execute_result"
    }
   ],
   "source": [
    "# check testing set structure\n",
    "train_df.head()"
   ]
  },
  {
   "cell_type": "code",
   "execution_count": null,
   "metadata": {
    "colab": {
     "base_uri": "https://localhost:8080/",
     "height": 394
    },
    "id": "ayc6qaWGZV35",
    "outputId": "67e8c0aa-2504-499f-c8cd-b92a129e2927"
   },
   "outputs": [
    {
     "data": {
      "text/html": [
       "\n",
       "  <div id=\"df-661c83ed-454d-48ba-9af0-ff4aa4822f0d\">\n",
       "    <div class=\"colab-df-container\">\n",
       "      <div>\n",
       "<style scoped>\n",
       "    .dataframe tbody tr th:only-of-type {\n",
       "        vertical-align: middle;\n",
       "    }\n",
       "\n",
       "    .dataframe tbody tr th {\n",
       "        vertical-align: top;\n",
       "    }\n",
       "\n",
       "    .dataframe thead th {\n",
       "        text-align: right;\n",
       "    }\n",
       "</style>\n",
       "<table border=\"1\" class=\"dataframe\">\n",
       "  <thead>\n",
       "    <tr style=\"text-align: right;\">\n",
       "      <th></th>\n",
       "      <th>Unnamed: 0</th>\n",
       "      <th>seq_id</th>\n",
       "      <th>pH</th>\n",
       "      <th>tm</th>\n",
       "      <th>length</th>\n",
       "      <th>charge</th>\n",
       "      <th>charge_density</th>\n",
       "      <th>C</th>\n",
       "      <th>H</th>\n",
       "      <th>N</th>\n",
       "      <th>...</th>\n",
       "      <th>modlAMP_cross_correlation_7</th>\n",
       "      <th>moment</th>\n",
       "      <th>global</th>\n",
       "      <th>profile_1</th>\n",
       "      <th>profile_2</th>\n",
       "      <th>arc_1</th>\n",
       "      <th>arc_2</th>\n",
       "      <th>arc_3</th>\n",
       "      <th>arc_4</th>\n",
       "      <th>arc_5</th>\n",
       "    </tr>\n",
       "  </thead>\n",
       "  <tbody>\n",
       "    <tr>\n",
       "      <th>count</th>\n",
       "      <td>1949.000000</td>\n",
       "      <td>1949.000000</td>\n",
       "      <td>1949.000000</td>\n",
       "      <td>1949.000000</td>\n",
       "      <td>1949.000000</td>\n",
       "      <td>1949.000000</td>\n",
       "      <td>1949.000000</td>\n",
       "      <td>1949.000000</td>\n",
       "      <td>1949.000000</td>\n",
       "      <td>1949.000000</td>\n",
       "      <td>...</td>\n",
       "      <td>1949.000000</td>\n",
       "      <td>1949.000000</td>\n",
       "      <td>1949.000000</td>\n",
       "      <td>1949.000000</td>\n",
       "      <td>1949.000000</td>\n",
       "      <td>1949.000000</td>\n",
       "      <td>1949.000000</td>\n",
       "      <td>1949.000000</td>\n",
       "      <td>1949.000000</td>\n",
       "      <td>1949.000000</td>\n",
       "    </tr>\n",
       "    <tr>\n",
       "      <th>mean</th>\n",
       "      <td>974.000000</td>\n",
       "      <td>1005.253976</td>\n",
       "      <td>6.981016</td>\n",
       "      <td>51.205336</td>\n",
       "      <td>436.375064</td>\n",
       "      <td>-7.628218</td>\n",
       "      <td>-0.000150</td>\n",
       "      <td>2166.120575</td>\n",
       "      <td>3380.710108</td>\n",
       "      <td>587.821447</td>\n",
       "      <td>...</td>\n",
       "      <td>-0.000577</td>\n",
       "      <td>0.917322</td>\n",
       "      <td>0.877027</td>\n",
       "      <td>0.000102</td>\n",
       "      <td>0.329612</td>\n",
       "      <td>155.885069</td>\n",
       "      <td>187.634684</td>\n",
       "      <td>60.097486</td>\n",
       "      <td>59.548486</td>\n",
       "      <td>37.598769</td>\n",
       "    </tr>\n",
       "    <tr>\n",
       "      <th>std</th>\n",
       "      <td>562.772156</td>\n",
       "      <td>578.661559</td>\n",
       "      <td>0.231456</td>\n",
       "      <td>10.404872</td>\n",
       "      <td>390.430027</td>\n",
       "      <td>19.365393</td>\n",
       "      <td>0.000305</td>\n",
       "      <td>1906.064453</td>\n",
       "      <td>2975.978148</td>\n",
       "      <td>529.660922</td>\n",
       "      <td>...</td>\n",
       "      <td>0.079129</td>\n",
       "      <td>0.114836</td>\n",
       "      <td>0.173775</td>\n",
       "      <td>0.001390</td>\n",
       "      <td>0.068556</td>\n",
       "      <td>57.451874</td>\n",
       "      <td>58.415051</td>\n",
       "      <td>21.399705</td>\n",
       "      <td>25.412436</td>\n",
       "      <td>17.014944</td>\n",
       "    </tr>\n",
       "    <tr>\n",
       "      <th>min</th>\n",
       "      <td>0.000000</td>\n",
       "      <td>0.000000</td>\n",
       "      <td>3.000000</td>\n",
       "      <td>31.800000</td>\n",
       "      <td>16.000000</td>\n",
       "      <td>-290.091000</td>\n",
       "      <td>-0.001716</td>\n",
       "      <td>74.000000</td>\n",
       "      <td>119.000000</td>\n",
       "      <td>23.000000</td>\n",
       "      <td>...</td>\n",
       "      <td>-0.482120</td>\n",
       "      <td>0.463778</td>\n",
       "      <td>-0.007143</td>\n",
       "      <td>-0.042261</td>\n",
       "      <td>0.073536</td>\n",
       "      <td>20.000000</td>\n",
       "      <td>60.000000</td>\n",
       "      <td>20.000000</td>\n",
       "      <td>20.000000</td>\n",
       "      <td>0.000000</td>\n",
       "    </tr>\n",
       "    <tr>\n",
       "      <th>25%</th>\n",
       "      <td>487.000000</td>\n",
       "      <td>501.000000</td>\n",
       "      <td>7.000000</td>\n",
       "      <td>44.700000</td>\n",
       "      <td>215.000000</td>\n",
       "      <td>-10.427000</td>\n",
       "      <td>-0.000295</td>\n",
       "      <td>1072.000000</td>\n",
       "      <td>1667.000000</td>\n",
       "      <td>292.000000</td>\n",
       "      <td>...</td>\n",
       "      <td>-0.047626</td>\n",
       "      <td>0.840494</td>\n",
       "      <td>0.768571</td>\n",
       "      <td>-0.000103</td>\n",
       "      <td>0.296040</td>\n",
       "      <td>120.000000</td>\n",
       "      <td>140.000000</td>\n",
       "      <td>40.000000</td>\n",
       "      <td>40.000000</td>\n",
       "      <td>20.000000</td>\n",
       "    </tr>\n",
       "    <tr>\n",
       "      <th>50%</th>\n",
       "      <td>974.000000</td>\n",
       "      <td>1003.000000</td>\n",
       "      <td>7.000000</td>\n",
       "      <td>49.500000</td>\n",
       "      <td>360.000000</td>\n",
       "      <td>-5.007000</td>\n",
       "      <td>-0.000130</td>\n",
       "      <td>1792.000000</td>\n",
       "      <td>2812.000000</td>\n",
       "      <td>483.000000</td>\n",
       "      <td>...</td>\n",
       "      <td>-0.003903</td>\n",
       "      <td>0.918648</td>\n",
       "      <td>0.875000</td>\n",
       "      <td>0.000023</td>\n",
       "      <td>0.335857</td>\n",
       "      <td>140.000000</td>\n",
       "      <td>180.000000</td>\n",
       "      <td>60.000000</td>\n",
       "      <td>60.000000</td>\n",
       "      <td>40.000000</td>\n",
       "    </tr>\n",
       "    <tr>\n",
       "      <th>75%</th>\n",
       "      <td>1461.000000</td>\n",
       "      <td>1510.000000</td>\n",
       "      <td>7.000000</td>\n",
       "      <td>54.400000</td>\n",
       "      <td>529.000000</td>\n",
       "      <td>0.821000</td>\n",
       "      <td>0.000022</td>\n",
       "      <td>2649.000000</td>\n",
       "      <td>4118.000000</td>\n",
       "      <td>717.000000</td>\n",
       "      <td>...</td>\n",
       "      <td>0.034053</td>\n",
       "      <td>1.000789</td>\n",
       "      <td>0.987143</td>\n",
       "      <td>0.000195</td>\n",
       "      <td>0.369920</td>\n",
       "      <td>180.000000</td>\n",
       "      <td>220.000000</td>\n",
       "      <td>80.000000</td>\n",
       "      <td>60.000000</td>\n",
       "      <td>40.000000</td>\n",
       "    </tr>\n",
       "    <tr>\n",
       "      <th>max</th>\n",
       "      <td>1948.000000</td>\n",
       "      <td>1997.000000</td>\n",
       "      <td>8.500000</td>\n",
       "      <td>97.100000</td>\n",
       "      <td>5444.000000</td>\n",
       "      <td>119.147000</td>\n",
       "      <td>0.001945</td>\n",
       "      <td>26921.000000</td>\n",
       "      <td>42209.000000</td>\n",
       "      <td>7285.000000</td>\n",
       "      <td>...</td>\n",
       "      <td>0.480522</td>\n",
       "      <td>1.256865</td>\n",
       "      <td>1.285714</td>\n",
       "      <td>0.022494</td>\n",
       "      <td>0.973531</td>\n",
       "      <td>360.000000</td>\n",
       "      <td>360.000000</td>\n",
       "      <td>180.000000</td>\n",
       "      <td>360.000000</td>\n",
       "      <td>160.000000</td>\n",
       "    </tr>\n",
       "  </tbody>\n",
       "</table>\n",
       "<p>8 rows × 9600 columns</p>\n",
       "</div>\n",
       "      <button class=\"colab-df-convert\" onclick=\"convertToInteractive('df-661c83ed-454d-48ba-9af0-ff4aa4822f0d')\"\n",
       "              title=\"Convert this dataframe to an interactive table.\"\n",
       "              style=\"display:none;\">\n",
       "        \n",
       "  <svg xmlns=\"http://www.w3.org/2000/svg\" height=\"24px\"viewBox=\"0 0 24 24\"\n",
       "       width=\"24px\">\n",
       "    <path d=\"M0 0h24v24H0V0z\" fill=\"none\"/>\n",
       "    <path d=\"M18.56 5.44l.94 2.06.94-2.06 2.06-.94-2.06-.94-.94-2.06-.94 2.06-2.06.94zm-11 1L8.5 8.5l.94-2.06 2.06-.94-2.06-.94L8.5 2.5l-.94 2.06-2.06.94zm10 10l.94 2.06.94-2.06 2.06-.94-2.06-.94-.94-2.06-.94 2.06-2.06.94z\"/><path d=\"M17.41 7.96l-1.37-1.37c-.4-.4-.92-.59-1.43-.59-.52 0-1.04.2-1.43.59L10.3 9.45l-7.72 7.72c-.78.78-.78 2.05 0 2.83L4 21.41c.39.39.9.59 1.41.59.51 0 1.02-.2 1.41-.59l7.78-7.78 2.81-2.81c.8-.78.8-2.07 0-2.86zM5.41 20L4 18.59l7.72-7.72 1.47 1.35L5.41 20z\"/>\n",
       "  </svg>\n",
       "      </button>\n",
       "      \n",
       "  <style>\n",
       "    .colab-df-container {\n",
       "      display:flex;\n",
       "      flex-wrap:wrap;\n",
       "      gap: 12px;\n",
       "    }\n",
       "\n",
       "    .colab-df-convert {\n",
       "      background-color: #E8F0FE;\n",
       "      border: none;\n",
       "      border-radius: 50%;\n",
       "      cursor: pointer;\n",
       "      display: none;\n",
       "      fill: #1967D2;\n",
       "      height: 32px;\n",
       "      padding: 0 0 0 0;\n",
       "      width: 32px;\n",
       "    }\n",
       "\n",
       "    .colab-df-convert:hover {\n",
       "      background-color: #E2EBFA;\n",
       "      box-shadow: 0px 1px 2px rgba(60, 64, 67, 0.3), 0px 1px 3px 1px rgba(60, 64, 67, 0.15);\n",
       "      fill: #174EA6;\n",
       "    }\n",
       "\n",
       "    [theme=dark] .colab-df-convert {\n",
       "      background-color: #3B4455;\n",
       "      fill: #D2E3FC;\n",
       "    }\n",
       "\n",
       "    [theme=dark] .colab-df-convert:hover {\n",
       "      background-color: #434B5C;\n",
       "      box-shadow: 0px 1px 3px 1px rgba(0, 0, 0, 0.15);\n",
       "      filter: drop-shadow(0px 1px 2px rgba(0, 0, 0, 0.3));\n",
       "      fill: #FFFFFF;\n",
       "    }\n",
       "  </style>\n",
       "\n",
       "      <script>\n",
       "        const buttonEl =\n",
       "          document.querySelector('#df-661c83ed-454d-48ba-9af0-ff4aa4822f0d button.colab-df-convert');\n",
       "        buttonEl.style.display =\n",
       "          google.colab.kernel.accessAllowed ? 'block' : 'none';\n",
       "\n",
       "        async function convertToInteractive(key) {\n",
       "          const element = document.querySelector('#df-661c83ed-454d-48ba-9af0-ff4aa4822f0d');\n",
       "          const dataTable =\n",
       "            await google.colab.kernel.invokeFunction('convertToInteractive',\n",
       "                                                     [key], {});\n",
       "          if (!dataTable) return;\n",
       "\n",
       "          const docLinkHtml = 'Like what you see? Visit the ' +\n",
       "            '<a target=\"_blank\" href=https://colab.research.google.com/notebooks/data_table.ipynb>data table notebook</a>'\n",
       "            + ' to learn more about interactive tables.';\n",
       "          element.innerHTML = '';\n",
       "          dataTable['output_type'] = 'display_data';\n",
       "          await google.colab.output.renderOutput(dataTable, element);\n",
       "          const docLink = document.createElement('div');\n",
       "          docLink.innerHTML = docLinkHtml;\n",
       "          element.appendChild(docLink);\n",
       "        }\n",
       "      </script>\n",
       "    </div>\n",
       "  </div>\n",
       "  "
      ],
      "text/plain": [
       "        Unnamed: 0       seq_id           pH           tm       length  \\\n",
       "count  1949.000000  1949.000000  1949.000000  1949.000000  1949.000000   \n",
       "mean    974.000000  1005.253976     6.981016    51.205336   436.375064   \n",
       "std     562.772156   578.661559     0.231456    10.404872   390.430027   \n",
       "min       0.000000     0.000000     3.000000    31.800000    16.000000   \n",
       "25%     487.000000   501.000000     7.000000    44.700000   215.000000   \n",
       "50%     974.000000  1003.000000     7.000000    49.500000   360.000000   \n",
       "75%    1461.000000  1510.000000     7.000000    54.400000   529.000000   \n",
       "max    1948.000000  1997.000000     8.500000    97.100000  5444.000000   \n",
       "\n",
       "            charge  charge_density             C             H            N  \\\n",
       "count  1949.000000     1949.000000   1949.000000   1949.000000  1949.000000   \n",
       "mean     -7.628218       -0.000150   2166.120575   3380.710108   587.821447   \n",
       "std      19.365393        0.000305   1906.064453   2975.978148   529.660922   \n",
       "min    -290.091000       -0.001716     74.000000    119.000000    23.000000   \n",
       "25%     -10.427000       -0.000295   1072.000000   1667.000000   292.000000   \n",
       "50%      -5.007000       -0.000130   1792.000000   2812.000000   483.000000   \n",
       "75%       0.821000        0.000022   2649.000000   4118.000000   717.000000   \n",
       "max     119.147000        0.001945  26921.000000  42209.000000  7285.000000   \n",
       "\n",
       "       ...  modlAMP_cross_correlation_7       moment       global  \\\n",
       "count  ...                  1949.000000  1949.000000  1949.000000   \n",
       "mean   ...                    -0.000577     0.917322     0.877027   \n",
       "std    ...                     0.079129     0.114836     0.173775   \n",
       "min    ...                    -0.482120     0.463778    -0.007143   \n",
       "25%    ...                    -0.047626     0.840494     0.768571   \n",
       "50%    ...                    -0.003903     0.918648     0.875000   \n",
       "75%    ...                     0.034053     1.000789     0.987143   \n",
       "max    ...                     0.480522     1.256865     1.285714   \n",
       "\n",
       "         profile_1    profile_2        arc_1        arc_2        arc_3  \\\n",
       "count  1949.000000  1949.000000  1949.000000  1949.000000  1949.000000   \n",
       "mean      0.000102     0.329612   155.885069   187.634684    60.097486   \n",
       "std       0.001390     0.068556    57.451874    58.415051    21.399705   \n",
       "min      -0.042261     0.073536    20.000000    60.000000    20.000000   \n",
       "25%      -0.000103     0.296040   120.000000   140.000000    40.000000   \n",
       "50%       0.000023     0.335857   140.000000   180.000000    60.000000   \n",
       "75%       0.000195     0.369920   180.000000   220.000000    80.000000   \n",
       "max       0.022494     0.973531   360.000000   360.000000   180.000000   \n",
       "\n",
       "             arc_4        arc_5  \n",
       "count  1949.000000  1949.000000  \n",
       "mean     59.548486    37.598769  \n",
       "std      25.412436    17.014944  \n",
       "min      20.000000     0.000000  \n",
       "25%      40.000000    20.000000  \n",
       "50%      60.000000    40.000000  \n",
       "75%      60.000000    40.000000  \n",
       "max     360.000000   160.000000  \n",
       "\n",
       "[8 rows x 9600 columns]"
      ]
     },
     "execution_count": 12,
     "metadata": {},
     "output_type": "execute_result"
    }
   ],
   "source": [
    "# checking testing set data types and feature ranges\n",
    "train_df.describe()"
   ]
  },
  {
   "cell_type": "code",
   "execution_count": null,
   "metadata": {
    "id": "pQs8QU641FGI"
   },
   "outputs": [],
   "source": [
    "#List the new features\n",
    "list(train_df.columns)"
   ]
  },
  {
   "cell_type": "code",
   "execution_count": null,
   "metadata": {
    "colab": {
     "base_uri": "https://localhost:8080/"
    },
    "id": "H8SEWZMy4GYq",
    "outputId": "969b969f-24b7-4c0f-f078-04ac50bed8be"
   },
   "outputs": [
    {
     "data": {
      "text/plain": [
       "5817"
      ]
     },
     "execution_count": 7,
     "metadata": {},
     "output_type": "execute_result"
    }
   ],
   "source": [
    "# Check null values\n",
    "train_df.isna().sum().sum()"
   ]
  },
  {
   "cell_type": "code",
   "execution_count": null,
   "metadata": {
    "id": "wWLJXjSS7foM",
    "pycharm": {
     "is_executing": true
    }
   },
   "outputs": [],
   "source": [
    "# As the number of missing values is small we will replace them with the median of the respective features.\n",
    "medians = train_df.median()\n",
    "train_df = train_df.fillna(medians)"
   ]
  },
  {
   "cell_type": "code",
   "execution_count": null,
   "metadata": {
    "colab": {
     "base_uri": "https://localhost:8080/"
    },
    "id": "SxPJHGCq93bh",
    "outputId": "c039f502-d9ee-43e7-9f55-b9e1d9501b6d"
   },
   "outputs": [
    {
     "data": {
      "text/plain": [
       "0"
      ]
     },
     "execution_count": 9,
     "metadata": {},
     "output_type": "execute_result"
    }
   ],
   "source": [
    "# check if all nan values were filled\n",
    "train_df.isna().sum().sum()"
   ]
  },
  {
   "cell_type": "code",
   "execution_count": null,
   "metadata": {
    "colab": {
     "base_uri": "https://localhost:8080/"
    },
    "id": "lryh8le51FGI",
    "outputId": "a181f126-abe5-4133-d039-446b032e7a66"
   },
   "outputs": [
    {
     "name": "stdout",
     "output_type": "stream",
     "text": [
      "The shape of the training dataset is (21880, 9601).\n"
     ]
    }
   ],
   "source": [
    "# get the final shape of the datasets\n",
    "print(f\"The shape of the training dataset is {train_df.shape}.\")"
   ]
  },
  {
   "cell_type": "markdown",
   "metadata": {
    "collapsed": false,
    "id": "FF7c6CkB1FGI"
   },
   "source": [
    "### Exploring the obtained descriptors\n"
   ]
  },
  {
   "cell_type": "code",
   "execution_count": null,
   "metadata": {
    "colab": {
     "base_uri": "https://localhost:8080/",
     "height": 330
    },
    "id": "YobzDKEI1FGJ",
    "outputId": "b7130f8c-2b51-42ad-dbbb-4fcdc51fa030"
   },
   "outputs": [
    {
     "data": {
      "text/plain": [
       "<seaborn.axisgrid.FacetGrid at 0x7fa2e52ef2e0>"
      ]
     },
     "execution_count": 18,
     "metadata": {},
     "output_type": "execute_result"
    },
    {
     "data": {
      "image/png": "[encoded data removed]",
      "text/plain": [
       "<Figure size 576x288 with 1 Axes>"
      ]
     },
     "metadata": {},
     "output_type": "display_data"
    }
   ],
   "source": [
    "# check distribution of the pH\n",
    "sns.displot(train_df['pH'], aspect=2, height=4, kde=True).set(title=\"Training dataset pH distribution\")"
   ]
  },
  {
   "cell_type": "code",
   "execution_count": null,
   "metadata": {
    "colab": {
     "base_uri": "https://localhost:8080/",
     "height": 330
    },
    "id": "LL9IUqij1FGJ",
    "outputId": "250ba8c9-5cae-41c9-e4bc-5520b343bf60"
   },
   "outputs": [
    {
     "data": {
      "text/plain": [
       "<seaborn.axisgrid.FacetGrid at 0x7fa2e498bc70>"
      ]
     },
     "execution_count": 17,
     "metadata": {},
     "output_type": "execute_result"
    },
    {
     "data": {
      "image/png": "[encoded data removed]",
      "text/plain": [
       "<Figure size 864x288 with 1 Axes>"
      ]
     },
     "metadata": {},
     "output_type": "display_data"
    }
   ],
   "source": [
    "# check distribution of the length of the sequence\n",
    "sns.displot(train_df['length'], aspect=3, height=4, kde=True).set(title=\"Training dataset protein length distribution\")"
   ]
  },
  {
   "cell_type": "code",
   "execution_count": null,
   "metadata": {
    "colab": {
     "base_uri": "https://localhost:8080/",
     "height": 295
    },
    "id": "3DVoNc5Z1FGJ",
    "outputId": "9be156bd-c5a2-47e6-f9fc-cbbd7a33f973"
   },
   "outputs": [
    {
     "data": {
      "image/png": "[encoded data removed]",
      "text/plain": [
       "<Figure size 432x288 with 1 Axes>"
      ]
     },
     "metadata": {},
     "output_type": "display_data"
    }
   ],
   "source": [
    "# check the distribution of amino acid frequency\n",
    "\n",
    "aa_freq = train_df.iloc[:,31:51].mean()\n",
    "plt.bar(aa_freq.index, aa_freq.values)\n",
    "plt.xlabel(\"Amino acid\")\n",
    "plt.ylabel(\"Mean frequency\")\n",
    "plt.title(\"Training dataset AA frequency histogram\")\n",
    "plt.show()"
   ]
  },
  {
   "cell_type": "code",
   "execution_count": null,
   "metadata": {
    "colab": {
     "base_uri": "https://localhost:8080/",
     "height": 330
    },
    "id": "4t1XHeFe1FGJ",
    "outputId": "18abefb9-b4e8-4d0d-976c-9a9edaf58e56"
   },
   "outputs": [
    {
     "data": {
      "text/plain": [
       "<seaborn.axisgrid.FacetGrid at 0x7fa2e4310c70>"
      ]
     },
     "execution_count": 14,
     "metadata": {},
     "output_type": "execute_result"
    },
    {
     "data": {
      "image/png": "[encoded data removed]",
      "text/plain": [
       "<Figure size 576x288 with 1 Axes>"
      ]
     },
     "metadata": {},
     "output_type": "display_data"
    }
   ],
   "source": [
    "# check distribution of the instability index\n",
    "sns.displot(train_df['hydrophobic_ratio'], aspect=2, height=4, kde=True).set(title=\"Training dataset hydrophibic ratio distribution\")"
   ]
  },
  {
   "cell_type": "code",
   "execution_count": null,
   "metadata": {
    "colab": {
     "base_uri": "https://localhost:8080/",
     "height": 330
    },
    "id": "spb76iUM1FGK",
    "outputId": "7c162832-fc33-4f42-df24-1a3b3d50e8b1"
   },
   "outputs": [
    {
     "data": {
      "text/plain": [
       "<seaborn.axisgrid.FacetGrid at 0x7fa2e5640910>"
      ]
     },
     "execution_count": 13,
     "metadata": {},
     "output_type": "execute_result"
    },
    {
     "data": {
      "image/png": "[encoded data removed]",
      "text/plain": [
       "<Figure size 576x288 with 1 Axes>"
      ]
     },
     "metadata": {},
     "output_type": "display_data"
    }
   ],
   "source": [
    "# check distribution of the instability index\n",
    "sns.displot(train_df['instability_index'], aspect=2, height=4, kde=True).set(title=\"Training dataset PII distribution\")"
   ]
  },
  {
   "cell_type": "code",
   "execution_count": null,
   "metadata": {
    "colab": {
     "base_uri": "https://localhost:8080/",
     "height": 265
    },
    "id": "PIAAdRSJf6uB",
    "outputId": "95ce48a0-029e-42c8-9302-3b8161f8f247"
   },
   "outputs": [
    {
     "data": {
      "text/plain": [
       "Text(0, 0.5, 'Distributin of protein PII')"
      ]
     },
     "execution_count": 25,
     "metadata": {},
     "output_type": "execute_result"
    },
    {
     "data": {
      "image/png": "[encoded data removed]",
      "text/plain": [
       "<Figure size 432x288 with 1 Axes>"
      ]
     },
     "metadata": {},
     "output_type": "display_data"
    }
   ],
   "source": [
    "# check PII estimation of stability and instability\n",
    "copy_df = train_df.copy()\n",
    "\n",
    "def pii_classification(x):\n",
    "    if x < 40:\n",
    "        return 'Stable'\n",
    "    else:\n",
    "      return 'Unstable'\n",
    "\n",
    "copy_df['instability_index'] = train_df['instability_index'].apply(pii_classification)\n",
    "copy_df.groupby('instability_index').size().plot.pie(autopct='%d%%')\n",
    "plt.ylabel(\"Distributin of protein PII\")"
   ]
  },
  {
   "cell_type": "code",
   "execution_count": null,
   "metadata": {
    "colab": {
     "base_uri": "https://localhost:8080/",
     "height": 327
    },
    "id": "K4KyyR6n1FGK",
    "outputId": "46a44ed5-5fba-4221-ca65-5888c653207d"
   },
   "outputs": [
    {
     "data": {
      "text/plain": [
       "<seaborn.axisgrid.FacetGrid at 0x7fa2e4223880>"
      ]
     },
     "execution_count": 16,
     "metadata": {},
     "output_type": "execute_result"
    },
    {
     "data": {
      "image/png": "[encoded data removed]",
      "text/plain": [
       "<Figure size 576x288 with 1 Axes>"
      ]
     },
     "metadata": {},
     "output_type": "display_data"
    }
   ],
   "source": [
    "# check distribution of the tm\n",
    "sns.displot(train_df['tm'], aspect=2, height=4, kde=True).set(title=\"Training dataset tm distribution\")"
   ]
  },
  {
   "cell_type": "code",
   "execution_count": null,
   "metadata": {
    "colab": {
     "base_uri": "https://localhost:8080/",
     "height": 295
    },
    "id": "pys8zJ9v1FGL",
    "outputId": "71a90af7-5639-40a0-a042-9a94ddce8590"
   },
   "outputs": [
    {
     "data": {
      "image/png": "[encoded data removed]",
      "text/plain": [
       "<Figure size 432x288 with 1 Axes>"
      ]
     },
     "metadata": {},
     "output_type": "display_data"
    }
   ],
   "source": [
    "# Classify the type of enzyme according to its thermostability\n",
    "def thermostability_class(x):\n",
    "    if x < 20:\n",
    "        return 'Psychrophilic'\n",
    "    elif 20 <= x <= 45:\n",
    "        return 'Mesophilic'\n",
    "    elif 45 <= x <= 80:\n",
    "        return 'Thermophilic'\n",
    "    elif x>= 80:\n",
    "        return 'Hyperthermophilic'\n",
    "\n",
    "copy_df['tm'] = train_df['tm'].apply(thermostability_class)\n",
    "class_freq = copy_df['tm'].value_counts()\n",
    "\n",
    "plt.bar(class_freq.index, class_freq.values)\n",
    "plt.xlabel(\"Enzyme Classification\")\n",
    "plt.ylabel(\"Frequency\")\n",
    "plt.title(\"Class frequency histogram\")\n",
    "plt.show()"
   ]
  },
  {
   "cell_type": "markdown",
   "metadata": {
    "id": "cueEEakDXz0F"
   },
   "source": [
    "### Feature correlation"
   ]
  },
  {
   "cell_type": "code",
   "execution_count": null,
   "metadata": {
    "colab": {
     "base_uri": "https://localhost:8080/",
     "height": 796
    },
    "id": "qaPNMqUV1FGL",
    "outputId": "36065fbd-ade4-4d08-e100-88fd23ee08ba"
   },
   "outputs": [
    {
     "data": {
      "image/png": "[encoded data removed]",
      "text/plain": [
       "<Figure size 864x864 with 2 Axes>"
      ]
     },
     "metadata": {},
     "output_type": "display_data"
    }
   ],
   "source": [
    "# Check correlation value for selected features\n",
    "corr = train_df.loc[:, ['tm', 'pH', 'length', 'charge', 'C', 'H', 'N', 'O', 'S', 'total', 'hydrogen', 'single', 'double', 'molecular_weight', 'aromaticity', 'isoelectric_point', 'instability_index', 'hydrophobic_ratio']].corr()\n",
    "plt.figure(figsize=(12, 12))\n",
    "sns.heatmap(corr, annot=True)\n",
    "plt.title(f\"Correlation between selected features\")\n",
    "plt.show()"
   ]
  },
  {
   "cell_type": "markdown",
   "metadata": {
    "collapsed": false,
    "id": "geaJ2gly1FGM"
   },
   "source": [
    "### Data analysis and characterization\n",
    "\n",
    "The initial information obtained from the training dataset allowed us to detect some anomalies, in fact the range of values of the pH and tm features had inaccuracies. The maximum value for pH was of ~ 64 and the minimum for temperature is usually 25 ºC. The optimal pH for most enzymes falls within the range of 6 to 8, although some enzymes may have an optimal pH outside this range, the maximum value is extremely alkaline. After checking the competition information, we saw that there had been updates to the training set and that some entries had transposed values for the pH and tm features. As such, we ran the suggested transformations to remove the data that was presumed unusable and alter the data that was corrected. The range of the features in this final dataset now fell within expected values.\n",
    "\n",
    "The only filtering process applied to the dataset was verification of the protein sequences that was processed by the propythia package. The function par_preprocessing() removes and replaces incorrect amino acids. After verifying the sequences, we obtained all available descriptors in the propythia package using the get_all() method. This allowed us to have a final training dataset with 9601 features that will improve accuracy of the machine learning models.\n",
    "\n",
    "In the following section we verified the data distribution of the most relevant features. As such, we plotted the distribution of the pH and the tm features, that were the original given ones, and the amino acid frequency, length of the protein sequences, the PII (Protein Instability Index) and hydrophobic ratio. To view how this features correlated with each other and with the tm we plotted a correlation plot.\n",
    "Wu et al., (2009), states the protein properties that are most related to thermostability are amino acid composition, ion pairs and salt bridges.\n",
    "\n",
    "For distribution of the pH, we can verify that the given values fall whithin the optimal range of enzyme activity, between 6 and 8, with most of the samples being in the 7.0 space. There are no expected ranges for the sequence length, however we can affirm that mean of the sequence length is of 440 amino acids with most of them falling between 0 and 2000. The protein instability index (PII) estimates the stability proteins in a test tube. If the PII is below 40 it can be predicted as stable and a value above 40 estimates some instability (Gasteiger et al., 2005). From the distribution plot and pie plot, we can affirm that almost half are stable.\n",
    "\n",
    "Enzymes are classified according to their thermostability based on the optimal temperature at which they function. They can be psychrophilic, mesophilic, thermophilic and hyperthermophilic. The range of temperatures for each classification can vary depending on the source, but generally the following ranges are used: (1) Psychrophilic enzymes: active at low temperatures, typically between 0-20°C; (2) Mesophilic enzymes: active at moderate temperatures, typically between 20-45°C; (3) Thermophilic enzymes: active at high temperatures, typically between 45-80°C; (4) Hyperthermophilic enzymes:active at extremely high temperatures, typically above 80°C. We can see that none of the given enzymes are psychrophilic and that the majority are thermophilic.\n"
   ]
  },
  {
   "cell_type": "markdown",
   "metadata": {
    "collapsed": false,
    "id": "Y_5br5eq1FGN"
   },
   "source": [
    "## Unsupervised analysis\n",
    "\n",
    "In this section of the notebook, we will be exploring various unsupervised analysis techniques to gain insights into the relationships among the features in our dataset. We will begin by analyzing the correlation among the features using a correlation feature plot. Next, we will use Principal Component Analysis (PCA) to reduce the dimensionality of the data and identify the most important features. Then, we will use variance thresholding to remove low-variance features from the dataset. Afterwards, we will use t-SNE to visualize the high-dimensional data in a two-dimensional space. Finally, we will use the K-Means clustering algorithm to group similar data points together and identify any underlying patterns in the data."
   ]
  },
  {
   "cell_type": "markdown",
   "metadata": {
    "id": "D-5My-4oX2da"
   },
   "source": [
    "### Exploring data variance and PCA"
   ]
  },
  {
   "cell_type": "code",
   "execution_count": null,
   "metadata": {
    "id": "Zx3L6WXG1FGN"
   },
   "outputs": [],
   "source": [
    "# Scale continuous data\n",
    "input_data = train_df.iloc[:,3:].values\n",
    "input_sc = preprocessing.scale(input_data)"
   ]
  },
  {
   "cell_type": "code",
   "execution_count": null,
   "metadata": {
    "id": "D7jD9Fh_-NGN"
   },
   "outputs": [],
   "source": [
    "# calculate variance for each feature\n",
    "variance_dict = train_df.iloc[:,3:].apply(lambda x: x.var()).to_dict()\n",
    "variance_dict"
   ]
  },
  {
   "cell_type": "code",
   "execution_count": null,
   "metadata": {
    "colab": {
     "base_uri": "https://localhost:8080/"
    },
    "id": "0AoUEKC61FGN",
    "outputId": "929e73ba-62d7-44dd-dce9-296f047135fa"
   },
   "outputs": [
    {
     "name": "stdout",
     "output_type": "stream",
     "text": [
      "Explained variance: [0.02103672 0.01381732 0.01323078 0.00927726 0.00871384 0.007804\n",
      " 0.00720149 0.00705156 0.00661096 0.00578184 0.00549506 0.00541096\n",
      " 0.00512615 0.00499273 0.00476092 0.00464686 0.00429825 0.00401727\n",
      " 0.00395868 0.00370018]\n",
      "Total variance: 0.14693284307962887.\n"
     ]
    }
   ],
   "source": [
    "# Perform PCA\n",
    "pca = PCA(n_components=20)\n",
    "reduced_data = pca.fit(input_sc).transform(input_sc)\n",
    "explained_variance = pca.explained_variance_ratio_\n",
    "print('Explained variance: %s'% str(explained_variance))\n",
    "print( f'Total variance: {explained_variance.sum()}.')"
   ]
  },
  {
   "cell_type": "code",
   "execution_count": null,
   "metadata": {
    "colab": {
     "base_uri": "https://localhost:8080/",
     "height": 281
    },
    "id": "3U6uFuBoFugH",
    "outputId": "3e6858ac-2178-4ff2-8c21-0927dbb1b98a"
   },
   "outputs": [
    {
     "data": {
      "image/png": "[encoded data removed]",
      "text/plain": [
       "<Figure size 432x288 with 1 Axes>"
      ]
     },
     "metadata": {},
     "output_type": "display_data"
    }
   ],
   "source": [
    "# Plot explained variance\n",
    "n = 20\n",
    "plt.bar(range(n), explained_variance*100)\n",
    "plt.xticks(range(n), ['PC'+str(i) for i in range(1,n+1)])\n",
    "plt.title(\"Explained variance for each principal component\")\n",
    "plt.ylabel(\"Percentage\")\n",
    "plt.show()"
   ]
  },
  {
   "cell_type": "code",
   "execution_count": null,
   "metadata": {
    "colab": {
     "base_uri": "https://localhost:8080/"
    },
    "id": "DTEMPTTUcgS9",
    "outputId": "aa2e6a32-0bfc-40bd-8183-d840d92ec4bd"
   },
   "outputs": [
    {
     "name": "stdout",
     "output_type": "stream",
     "text": [
      "(21880, 484)\n"
     ]
    }
   ],
   "source": [
    "# Remove features with low variation\n",
    "\n",
    "var_threshold = VarianceThreshold(threshold=0.1)\n",
    "data_high_var = var_threshold.fit_transform(input_data)\n",
    "\n",
    "print(data_high_var.shape)"
   ]
  },
  {
   "cell_type": "code",
   "execution_count": null,
   "metadata": {
    "colab": {
     "base_uri": "https://localhost:8080/"
    },
    "id": "8noM6Bh8eFYl",
    "outputId": "ee0a87a0-573a-44c6-b3ca-ddb7f6253fc7"
   },
   "outputs": [
    {
     "name": "stdout",
     "output_type": "stream",
     "text": [
      "Explained variance: [0.22599071 0.03684078 0.03244573 0.02970085 0.02782635 0.02610302\n",
      " 0.02351298 0.02032485 0.01786264 0.01634512 0.01501924 0.0142244\n",
      " 0.01294063 0.01156259 0.01141457 0.01043116 0.01004311 0.00925337\n",
      " 0.00870429 0.00836219]\n",
      "Total variance: 0.5689085767230211.\n"
     ]
    }
   ],
   "source": [
    "# Perform PCA after feature selection\n",
    "data_high_var_scale = preprocessing.scale(data_high_var)\n",
    "\n",
    "pca_var = PCA(n_components=10)\n",
    "reduced_data_var = pca.fit(data_high_var_scale).transform(data_high_var_scale)\n",
    "explained_variance_var = pca.explained_variance_ratio_\n",
    "print('Explained variance: %s'% str(explained_variance_var))\n",
    "print( f'Total variance: {explained_variance_var.sum()}.')"
   ]
  },
  {
   "cell_type": "markdown",
   "metadata": {
    "id": "FSi7KYl-X-Fh"
   },
   "source": [
    "### t-SNE"
   ]
  },
  {
   "cell_type": "code",
   "execution_count": null,
   "metadata": {
    "id": "zXaz98oDKDAd",
    "pycharm": {
     "is_executing": true
    }
   },
   "outputs": [],
   "source": [
    "# Perform t-SNE\n",
    "# Extract the features and the target variable\n",
    "data = train_df.drop([\"tm\"], axis=1).iloc[:,3:].values\n",
    "data_scale = preprocessing.scale(data)\n",
    "target = train_df[\"tm\"].values\n",
    "target_scale = preprocessing.scale(target)\n",
    "\n",
    "tsne = TSNE(n_components=2)\n",
    "tsne_result = tsne.fit_transform(data_scale)"
   ]
  },
  {
   "cell_type": "code",
   "execution_count": null,
   "metadata": {
    "colab": {
     "base_uri": "https://localhost:8080/",
     "height": 295
    },
    "id": "rbAqNkVMRd98",
    "outputId": "8df604fe-98c7-49ac-9631-054169dac782"
   },
   "outputs": [
    {
     "data": {
      "image/png": "[encoded data removed]",
      "text/plain": [
       "<Figure size 432x288 with 2 Axes>"
      ]
     },
     "metadata": {},
     "output_type": "display_data"
    }
   ],
   "source": [
    "# Map t-SNE data point in a 2D plot\n",
    "cmap = cm.ScalarMappable(cmap='viridis')\n",
    "cmap.set_array(target_scale)\n",
    "\n",
    "plt.scatter(tsne_result[:, 0], tsne_result[:, 1], c=target_scale, cmap='viridis')\n",
    "plt.colorbar(cmap)\n",
    "plt.xlabel('t-SNE 1')\n",
    "plt.ylabel('t-SNE 2')\n",
    "plt.title('t-SNE plot')\n",
    "plt.show()"
   ]
  },
  {
   "cell_type": "code",
   "execution_count": null,
   "metadata": {
    "colab": {
     "base_uri": "https://localhost:8080/",
     "height": 295
    },
    "id": "pN25EkW9hcXj",
    "outputId": "cf571ac3-1fdf-4dce-b9d0-b343856f06e8"
   },
   "outputs": [
    {
     "data": {
      "image/png": "[encoded data removed]",
      "text/plain": [
       "<Figure size 432x288 with 1 Axes>"
      ]
     },
     "metadata": {},
     "output_type": "display_data"
    }
   ],
   "source": [
    "# Cluster according to thermostability classification\n",
    "\n",
    "class_tm_colors = {'Psychrophilic':'blue', 'Mesophilic':'green', 'Thermophilic':'red','Hyperthermophilic':'black'}\n",
    "class_colors = []\n",
    "\n",
    "for classification in copy_df['tm']:\n",
    "    class_colors.append(class_tm_colors[classification])\n",
    "\n",
    "plt.scatter(tsne_result[:, 0], tsne_result[:, 1], c=class_colors)\n",
    "plt.xlabel('t-SNE 1')\n",
    "plt.ylabel('t-SNE 2')\n",
    "plt.title('Thermostability colored lusters')\n",
    "handles = [plt.plot([], marker=\"o\", ls=\"\", color=class_tm_colors[c], label=c)[0] for c in class_tm_colors]\n",
    "plt.legend(handles=handles)\n",
    "plt.show()"
   ]
  },
  {
   "cell_type": "markdown",
   "metadata": {
    "id": "wxb-_iBDYBq-"
   },
   "source": [
    "### K-Means Clustering"
   ]
  },
  {
   "cell_type": "code",
   "execution_count": null,
   "metadata": {
    "colab": {
     "base_uri": "https://localhost:8080/"
    },
    "id": "kBP-z-odW8mW",
    "outputId": "bb0ba0cb-5930-4fb7-c468-7c97903ae6b5"
   },
   "outputs": [
    {
     "name": "stdout",
     "output_type": "stream",
     "text": [
      "Number of clusters:  2  - Silhouette score:  0.3305701\n",
      "Number of clusters:  3  - Silhouette score:  0.3652981\n",
      "Number of clusters:  4  - Silhouette score:  0.3557958\n",
      "Number of clusters:  5  - Silhouette score:  0.35212088\n",
      "Number of clusters:  6  - Silhouette score:  0.36621302\n",
      "Number of clusters:  7  - Silhouette score:  0.3623076\n",
      "Number of clusters:  8  - Silhouette score:  0.34599093\n",
      "Number of clusters:  9  - Silhouette score:  0.35721534\n",
      "Number of clusters:  10  - Silhouette score:  0.34491292\n"
     ]
    }
   ],
   "source": [
    "# Methods to discover optimal number of clusters - Silhouette method\n",
    "for k in range(2, 11):\n",
    "    kmeans = KMeans(n_clusters=k, random_state=42)\n",
    "    kmeans.fit(tsne_result)\n",
    "    labels = kmeans.labels_\n",
    "    silhouette = silhouette_score(tsne_result, labels)\n",
    "    print(\"Number of clusters: \", k, \" - Silhouette score: \", silhouette)"
   ]
  },
  {
   "cell_type": "code",
   "execution_count": null,
   "metadata": {
    "colab": {
     "base_uri": "https://localhost:8080/",
     "height": 265
    },
    "id": "CHK5PlOVYOn8",
    "outputId": "9318c481-c483-49af-f871-b9c476b16a12"
   },
   "outputs": [
    {
     "data": {
      "image/png": "[encoded data removed]",
      "text/plain": [
       "<Figure size 432x288 with 1 Axes>"
      ]
     },
     "metadata": {},
     "output_type": "display_data"
    }
   ],
   "source": [
    "# Kmean with optimal cluster number\n",
    "n_clusters = 6\n",
    "\n",
    "kmeans = KMeans(n_clusters=n_clusters)\n",
    "clusters = kmeans.fit_predict(tsne_result)\n",
    "\n",
    "plt.scatter(tsne_result[:, 0], tsne_result[:, 1], c=clusters)\n",
    "plt.show()"
   ]
  },
  {
   "cell_type": "markdown",
   "metadata": {
    "collapsed": false,
    "id": "xq9TZPi71FGO"
   },
   "source": [
    "## Critical analysis of the results\n",
    "\n",
    "After selecting a few relevant features we can verify that the data has low linearity. To further verify the structure of the data we performed PCA to reduce the dimensionality of the data. Several numbers of componentes were tried (5, 10, 20, 50), however these values only explained about 15% of the total variance. As the normal percentage of explained variance is around 70-80%, we removed features with a low variance. Even after feature selection, only 57% of the total variance was explained.\n",
    "We then tried a t-SNE technique, more appropriate for non-linear data. From the t-SNE technique it was difficult to identify defined clusters. We also plotted the t-SNE data points accordind to the thermostability classification to verify if there was any relationship, however no pattern was found.\n",
    "For the Kmeans clustering, as the group was unsure on the number of clusters to choose from, we decided to compute the Silhouette score to arrive at the best solution. The Silhouette score measures how similar an object is to its own cluster compared to other clusters. This methods allowed us to infer that the best number of clusters was 6. After resorting to the KMeans technique we can easily observe 6 defined groups with a few outliers in the periferia."
   ]
  },
  {
   "cell_type": "markdown",
   "metadata": {
    "collapsed": false,
    "id": "7Zg_mnSQ1FGO"
   },
   "source": [
    "## Machine Learning Pipeline\n",
    "\n",
    "In this notebook section, we will be performing a machine learning analysis using various regression models such as Support Vector Regressor, Random Forest Regressor, KNN Regressor, and XGBoost Regressor. We will also be applying feature selection techniques like Recursive Feature Elimination (RFE) and hyperparameter tuning with Random Search Cross-Validation (CV). The performance of each model will be evaluated using the Mean Squared Error (MSE) as the scoring metric, and the results will be compared using cross-validation. The objective of this analysis is to identify the best performing model and feature set for our dataset. This section is organized by three big subsections where 1) the input/output data is pre-processed; 2) the chosen ML models are trained with no optimization techniques and 3) the models are trained with reduced features and then hyperparameter optimization. The group would also like to make a disclaimer that due to deprecation warnings and extended outputs some of these were cleared and the relevant information was inserted in a Markdown cell to keep the notebook clean."
   ]
  },
  {
   "cell_type": "code",
   "execution_count": null,
   "metadata": {
    "id": "FwV68JRRSgjx"
   },
   "outputs": [],
   "source": [
    "# imports\n",
    "\n",
    "import pandas as pd\n",
    "import numpy as np\n",
    "from sklearn.model_selection import train_test_split\n",
    "from sklearn.svm import SVR\n",
    "from sklearn.ensemble import RandomForestRegressor\n",
    "from sklearn.neighbors import KNeighborsRegressor\n",
    "from xgboost import XGBRegressor\n",
    "from sklearn.linear_model import LinearRegression\n",
    "from sklearn.model_selection import cross_val_score, RandomizedSearchCV\n",
    "from sklearn.feature_selection import SelectFromModel\n",
    "from sklearn.feature_selection import RFECV\n",
    "from sklearn.feature_selection import RFE\n",
    "from sklearn.feature_selection import SelectKBest\n",
    "from sklearn.feature_selection import f_regression\n",
    "from sklearn.pipeline import Pipeline\n",
    "from sklearn.model_selection import GridSearchCV\n",
    "from sklearn.metrics import mean_squared_error\n",
    "from scipy import stats"
   ]
  },
  {
   "cell_type": "markdown",
   "metadata": {
    "id": "okJfMorXClOi"
   },
   "source": [
    "### Prepare the datasets"
   ]
  },
  {
   "cell_type": "code",
   "execution_count": null,
   "metadata": {
    "id": "G9ZPhKoo1FGO"
   },
   "outputs": [],
   "source": [
    "# Prepare the data for the devision of the datasets\n",
    "x = train_df.drop([\"tm\"], axis=1).iloc[:,3:].values\n",
    "x = preprocessing.scale(x)\n",
    "y = train_df[\"tm\"].values\n",
    "y = preprocessing.scale(y)"
   ]
  },
  {
   "cell_type": "code",
   "execution_count": null,
   "metadata": {
    "colab": {
     "base_uri": "https://localhost:8080/"
    },
    "id": "yYVSt70I57WN",
    "outputId": "e08c364c-7377-4552-ae86-62ad84e0d856"
   },
   "outputs": [
    {
     "name": "stdout",
     "output_type": "stream",
     "text": [
      "The shape of the input and output training data is (7070, 9597) and (7070,), respectively.\n",
      "The shape of the input and output testing data is (884, 9597) and (884,), respectively.\n",
      "The shape of the input and output validating data is (884, 9597) and (884,), respectively.\n"
     ]
    }
   ],
   "source": [
    "# Divide the datasets\n",
    "x_train, x_temp, y_train, y_temp = train_test_split(x, y, test_size=0.2)\n",
    "x_val, x_test, y_val, y_test = train_test_split(x_temp, y_temp, test_size=0.5)\n",
    "\n",
    "print(f\"The shape of the input and output training data is {x_train.shape} and {y_train.shape}, respectively.\")\n",
    "print(f\"The shape of the input and output testing data is {x_test.shape} and {y_test.shape}, respectively.\")\n",
    "print(f\"The shape of the input and output validating data is {x_val.shape} and {y_val.shape}, respectively.\")"
   ]
  },
  {
   "cell_type": "code",
   "execution_count": null,
   "metadata": {
    "id": "W96AsI_KpDLW"
   },
   "outputs": [],
   "source": [
    "# Prepare the datasets\n",
    "# Train\n",
    "train_dataset = pd.read_csv(\"train_dataset.csv\")\n",
    "train_columns = train_dataset.columns\n",
    "train_label = train_columns[-1]\n",
    "\n",
    "x_train = train_dataset.drop(train_label, axis=1)\n",
    "y_train = train_dataset[train_label]\n",
    "\n",
    "#Test\n",
    "test_dataset = pd.read_csv(\"test_dataset.csv\")\n",
    "test_columns = test_dataset.columns\n",
    "test_label = test_columns[-1]\n",
    "\n",
    "x_test = test_dataset.drop(test_label, axis=1)\n",
    "y_test = test_dataset[test_label]\n",
    "\n",
    "#Validation\n",
    "val_dataset = pd.read_csv(\"val_dataset.csv\")\n",
    "val_columns = val_dataset.columns\n",
    "val_label = val_columns[-1]\n",
    "\n",
    "x_val = val_dataset.drop(val_label, axis=1)\n",
    "y_val = val_dataset[val_label]"
   ]
  },
  {
   "cell_type": "code",
   "execution_count": null,
   "metadata": {
    "id": "4ej_YmdHkje4"
   },
   "outputs": [],
   "source": [
    "# Fill training set Nan values (temporary due to running time on the loading of the dataset)\n",
    "medians = train_dataset.median()\n",
    "train_dataset = train_dataset.fillna(medians)\n",
    "\n",
    "train_columns = train_dataset.columns\n",
    "train_label = train_columns[-1]\n",
    "\n",
    "x_train = train_dataset.drop(train_label, axis=1)\n",
    "y_train = train_dataset[train_label]"
   ]
  },
  {
   "cell_type": "markdown",
   "metadata": {
    "id": "EJcttRrLCowN"
   },
   "source": [
    "### Baseline models\n",
    "\n",
    "In order to have a baseline for the comparison of the performance for the implemented models, the chosen ML algorithms were trained using the complete training dataset, meaning that no feature selection technique was performed."
   ]
  },
  {
   "cell_type": "markdown",
   "metadata": {
    "id": "QTg4AUg-w21X"
   },
   "source": [
    "#### Linear Regression"
   ]
  },
  {
   "cell_type": "code",
   "execution_count": null,
   "metadata": {
    "colab": {
     "base_uri": "https://localhost:8080/"
    },
    "id": "K25mNXmEw-Bw",
    "outputId": "66399351-3be4-41b7-df48-dba459bc48e1"
   },
   "outputs": [
    {
     "name": "stdout",
     "output_type": "stream",
     "text": [
      "Original Model Scores (CV on train set): [-4.58713859e+24 -1.02616170e+25 -1.39419224e+25 -1.16370157e+24\n",
      " -3.72414770e+24]\n"
     ]
    }
   ],
   "source": [
    "# Create the linear regression model\n",
    "lr = LinearRegression()\n",
    "\n",
    "lr.fit(x_train, y_train)\n",
    "\n",
    "lr_scores = cross_val_score(lr, x_train, y_train, cv=5)\n",
    "print(\"Original Model Scores (CV on train set):\", lr_scores)"
   ]
  },
  {
   "cell_type": "markdown",
   "metadata": {
    "id": "OkyZvz42mfic"
   },
   "source": [
    "### Support Vector Machine (SVM)"
   ]
  },
  {
   "cell_type": "code",
   "execution_count": null,
   "metadata": {
    "colab": {
     "base_uri": "https://localhost:8080/"
    },
    "id": "KE7Du36ZmfWe",
    "outputId": "a4199911-f889-43f2-d668-137431459376"
   },
   "outputs": [
    {
     "name": "stdout",
     "output_type": "stream",
     "text": [
      "Original Model Scores (CV on train set): [0.30433215 0.30804683 0.30717494 0.33512187 0.31897342]\n"
     ]
    }
   ],
   "source": [
    "# Create the SVR model\n",
    "\n",
    "svr = SVR()\n",
    "svr.fit(x_train, y_train)\n",
    "\n",
    "scores = cross_val_score(svr, x_train, y_train, cv=5)\n",
    "print(\"Original Model Scores (CV on train set):\", scores)"
   ]
  },
  {
   "cell_type": "markdown",
   "metadata": {
    "id": "DwX9seiGnLhI"
   },
   "source": [
    "#### Random Forests (RF)"
   ]
  },
  {
   "cell_type": "code",
   "execution_count": null,
   "metadata": {
    "colab": {
     "background_save": true
    },
    "id": "imubvCQDUxT8",
    "outputId": "cd9908d2-7360-4aa0-d550-e6d139298f8e"
   },
   "outputs": [
    {
     "name": "stdout",
     "output_type": "stream",
     "text": [
      "Original Model Scores (CV on train set): [0.45497179 0.40872392 0.4707737  0.42808391 0.38926285]\n"
     ]
    }
   ],
   "source": [
    "# Create the RFR model\n",
    "rfr = RandomForestRegressor()\n",
    "\n",
    "rfr.fit(x_train, y_train)\n",
    "\n",
    "rfr_scores = cross_val_score(rfr, x_train, y_train, cv=5)\n",
    "print(\"Original Model Scores (CV on train set):\", rfr_scores)"
   ]
  },
  {
   "cell_type": "markdown",
   "metadata": {
    "id": "dZRwLBcSnN0M"
   },
   "source": [
    "#### K-nearest neighbor (KNN)"
   ]
  },
  {
   "cell_type": "code",
   "execution_count": null,
   "metadata": {
    "colab": {
     "base_uri": "https://localhost:8080/"
    },
    "id": "iMYJIKmjnWyR",
    "outputId": "07574aad-6adb-4ba6-9c73-f4b27fceb481"
   },
   "outputs": [
    {
     "name": "stdout",
     "output_type": "stream",
     "text": [
      "Original Model Scores (CV on train set): [0.28738462 0.19080767 0.19040257 0.11388853 0.2486787 ]\n"
     ]
    }
   ],
   "source": [
    "# Create the KNN model\n",
    "\n",
    "knn = KNeighborsRegressor()\n",
    "knn.fit(x_train, y_train)\n",
    "\n",
    "knn_scores = cross_val_score(knn, x_train, y_train, cv=5)\n",
    "print(\"Original Model Scores (CV on train set):\", knn_scores)"
   ]
  },
  {
   "cell_type": "markdown",
   "metadata": {
    "id": "3ET7816uDApY"
   },
   "source": [
    "#### Extreme Gradient Boosting (XGBoost)"
   ]
  },
  {
   "cell_type": "code",
   "execution_count": null,
   "metadata": {
    "id": "gSCYfumXTQHz"
   },
   "outputs": [],
   "source": [
    "# Create the XGBoost model\n",
    "\n",
    "xgb = XGBRegressor()\n",
    "xgb.fit(x_train, y_train)\n",
    "\n",
    "xgb_scores = cross_val_score(xgb, x_train, y_train, cv=5)\n",
    "print(\"Original Model Scores (CV on train set):\", xgb_scores)"
   ]
  },
  {
   "cell_type": "markdown",
   "metadata": {
    "id": "brndu07ZAsPr"
   },
   "source": [
    "Original Model Scores (CV on train set): [0.47549222  0.48652976  0.41872815  0.50310552]"
   ]
  },
  {
   "cell_type": "markdown",
   "metadata": {
    "id": "xzTVGQqE4FGG"
   },
   "source": [
    "### Model optimization\n",
    "\n",
    "After training the ML models on the complete dataset, the group decided to employ optimization techniques to improve the models' performance. Due to prolongued running times, the selection of the best performing features was applied to the best scoring model, Extreme Gradient Boosting Regressor. For this step, we resorted to SelectKBest and GridSearchCV to identify the most informative features for training the model. This is achieved by iteratively removing the least important features, and using cross-validation to evaluate different combinations of the number of features selected. The final result is the selection of the optimal number of features that results in the best performance of the model. After obtaining this information, the original datasets were transformed, containing the reduced features and these datasets were applied to the remaining ML model. Note that due to the performance evaluation of the Linear Regression model, this algorithm was disgregarded."
   ]
  },
  {
   "cell_type": "markdown",
   "metadata": {
    "id": "wmIXCmVGhuyI"
   },
   "source": [
    "#### Feature Selection"
   ]
  },
  {
   "cell_type": "code",
   "execution_count": null,
   "metadata": {
    "id": "ggNFEuybKs8V"
   },
   "outputs": [],
   "source": [
    "# Grid Search method to infer the best number and scoring feature\n",
    "xgb_skb_pipe = Pipeline([\n",
    "    ('skb', SelectKBest(score_func=f_regression)),\n",
    "    ('xgb', XGBRegressor())\n",
    "])\n",
    "\n",
    "xgb_skb_param_grid = {'skb__k': range(1, 9500, 500)}\n",
    "\n",
    "xgb_skb_grid_search = GridSearchCV(xgb_skb_pipe, xgb_skb_param_grid, cv=5)\n",
    "xgb_skb_grid_search.fit(x_train, y_train)\n",
    "\n",
    "print(\"Best number of features: \", xgb_skb_grid_search.best_params_)"
   ]
  },
  {
   "cell_type": "markdown",
   "metadata": {
    "id": "CbhMTTwAAf1i"
   },
   "source": [
    "Best number of features:   {'skb__k': 7501}"
   ]
  },
  {
   "cell_type": "code",
   "execution_count": null,
   "metadata": {
    "id": "D3CkInoAQntN"
   },
   "outputs": [],
   "source": [
    "# Transform the dataset with the best perfoming features\n",
    "xgb_red_features = xgb_skb_grid_search.best_estimator_\n",
    "skb = xgb_red_features.named_steps['skb']\n",
    "indices = skb.get_support(indices=True)\n",
    "x_train_red = x_train.iloc[:,indices]\n",
    "x_test_red = x_test.iloc[:,indices]\n",
    "x_val_red = x_val.iloc[:,indices]\n",
    "y_train_red = y_train[x_train_red.index]\n",
    "y_test_red = y_test[x_test_red.index]\n",
    "y_val_red = y_val[x_val_red.index]"
   ]
  },
  {
   "cell_type": "code",
   "execution_count": null,
   "metadata": {
    "id": "rNBsXEO6G5RV"
   },
   "outputs": [],
   "source": [
    "#Save indices\n",
    "np.savetxt('indices_red.txt', indices, delimiter=',')"
   ]
  },
  {
   "cell_type": "code",
   "execution_count": null,
   "metadata": {
    "colab": {
     "base_uri": "https://localhost:8080/"
    },
    "id": "uUOlaprbtgDk",
    "outputId": "5c314cc4-2cec-4268-cea3-df36ebb5c0a7"
   },
   "outputs": [
    {
     "name": "stdout",
     "output_type": "stream",
     "text": [
      "The shape of the transformed training data and label is (1631, 7501) and (1631,), respectively.\n",
      "The shape of the transformed training data and label is (884, 7501) and (884,), respectively.\n",
      "The shape of the transformed training data and label is (884, 7501) and (884,), respectively.\n"
     ]
    }
   ],
   "source": [
    "print(f\"The shape of the transformed training data and label is {x_train_red.shape} and {y_train_red.shape}, respectively.\")\n",
    "print(f\"The shape of the transformed training data and label is {x_test_red.shape} and {y_test_red.shape}, respectively.\")\n",
    "print(f\"The shape of the transformed training data and label is {x_val_red.shape} and {y_val_red.shape}, respectively.\")"
   ]
  },
  {
   "cell_type": "code",
   "execution_count": null,
   "metadata": {
    "id": "uylk8teWzodK"
   },
   "outputs": [],
   "source": [
    "# Save reduced datasets to a CSV file\n",
    "\n",
    "x_train_red_df = pd.DataFrame(x_train_red)\n",
    "x_train_red_df.to_csv(\"x_train_red.csv\", index=False)\n",
    "\n",
    "x_test_red_df = pd.DataFrame(x_test_red)\n",
    "x_test_red_df.to_csv(\"x_test_red.csv\", index=False)\n",
    "\n",
    "x_val_red_df = pd.DataFrame(x_val_red)\n",
    "x_val_red_df.to_csv(\"x_val_red.csv\", index=False)\n",
    "\n",
    "y_train_red_df = pd.DataFrame(y_train_red)\n",
    "y_train_red_df.to_csv(\"y_train_red.csv\", index=False)\n",
    "\n",
    "y_test_red_df = pd.DataFrame(y_test_red)\n",
    "y_test_red_df.to_csv(\"y_test_red.csv\", index=False)\n",
    "\n",
    "y_val_red_df = pd.DataFrame(y_val_red)\n",
    "y_val_red_df.to_csv(\"y_val_red.csv\", index=False)"
   ]
  },
  {
   "cell_type": "code",
   "execution_count": null,
   "metadata": {
    "id": "LsYD9dL4d51c"
   },
   "outputs": [],
   "source": [
    "# Read reduced datasets\n",
    "x_test_red = pd.read_csv(\"x_test_red.csv\")\n",
    "x_train_red = pd.read_csv(\"x_train_red.csv\")\n",
    "x_val_red = pd.read_csv(\"x_val_red.csv\")\n",
    "y_train_red = pd.read_csv(\"y_train_red.csv\")\n",
    "y_test_red = pd.read_csv(\"y_test_red.csv\")\n",
    "y_val_red = pd.read_csv(\"y_val_red.csv\")"
   ]
  },
  {
   "cell_type": "markdown",
   "metadata": {
    "id": "LsVAI7oM6Z8Z"
   },
   "source": [
    "#### XGB-Regressor"
   ]
  },
  {
   "cell_type": "code",
   "execution_count": null,
   "metadata": {
    "colab": {
     "base_uri": "https://localhost:8080/"
    },
    "id": "A3VVXIP_7DVP",
    "outputId": "07a6b376-a73c-4dc1-f004-6424f6a32ca7"
   },
   "outputs": [
    {
     "name": "stdout",
     "output_type": "stream",
     "text": [
      "[21:37:30] WARNING: /workspace/src/objective/regression_obj.cu:152: reg:linear is now deprecated in favor of reg:squarederror.\n",
      "Validation score:  0.43905261675984564\n"
     ]
    }
   ],
   "source": [
    "# Score the model on reduced features\n",
    "xgb_rfesc = XGBRegressor()\n",
    "xgb_rfesc.fit(x_train_red, y_train_red)\n",
    "\n",
    "xgb_rfe_val_score = xgb_rfesc.score(x_val_red, y_val_red)\n",
    "print(\"Validation score: \", xgb_rfe_val_score)"
   ]
  },
  {
   "cell_type": "code",
   "execution_count": null,
   "metadata": {
    "id": "UHa3Nc9ZYHug"
   },
   "outputs": [],
   "source": [
    "# Define the hyperparameter grid\n",
    "xgb = XGBRegressor()\n",
    "\n",
    "xgb_param_grid = {\"n_estimators\": stats.randint(150, 1000),\n",
    "                   \"learning_rate\": stats.uniform(0.01, 0.59),\n",
    "                   \"subsample\": stats.uniform(0.3, 0.6),\n",
    "                   \"max_depth\": [3, 4, 5, 6, 7, 8, 9],\n",
    "                   \"colsample_bytree\": stats.uniform(0.5, 0.4),\n",
    "                   \"min_child_weight\": [1, 2, 3, 4]\n",
    "                   }\n",
    "xgb_random_search = RandomizedSearchCV(xgb, xgb_param_grid, n_iter=10, cv=None)\n",
    "\n",
    "xgb_random_search.fit(x_train_red, y_train_red)\n",
    "\n",
    "print(\"Best Hyperparameters:\", xgb_random_search.best_params_)\n",
    "xgb_scores = xgb_random_search.best_estimator_.score(x_val_red, y_val_red)\n",
    "print(\"Final Model Scores (validation set): \", xgb_scores)\n",
    "print(\"Final Model Scores (test set): \", xgb_random_search.best_estimator_.score(x_test_red, y_test_red))"
   ]
  },
  {
   "cell_type": "markdown",
   "metadata": {
    "id": "qMw23b6P9j1w"
   },
   "source": [
    "Best Hyperparameters: {'colsample_bytree': 0.7165445227982199, 'learning_rate': 0.046225764767013754, 'max_depth': 5, 'min_child_weight': 4, 'n_estimators': 648, 'subsample': 0.8925036464315721}\n",
    "Final Model Scores (validation set):  0.4189417970205491\n",
    "Final Model Scores (test set):  0.4031703499005228"
   ]
  },
  {
   "cell_type": "markdown",
   "metadata": {
    "id": "fArcrN-Z6fg3"
   },
   "source": [
    "#### KNN-Regressor"
   ]
  },
  {
   "cell_type": "code",
   "execution_count": null,
   "metadata": {
    "colab": {
     "base_uri": "https://localhost:8080/"
    },
    "id": "A4nbNxZS6uO7",
    "outputId": "0dd2b623-f538-45ed-e1ce-debde284578d"
   },
   "outputs": [
    {
     "name": "stdout",
     "output_type": "stream",
     "text": [
      "Validation score:  0.25014839849132475\n"
     ]
    }
   ],
   "source": [
    "# Score the model on reduced features\n",
    "knn_rfesc = KNeighborsRegressor()\n",
    "knn_rfesc.fit(x_train_red, y_train_red)\n",
    "\n",
    "knn_rfe_val_score = knn_rfesc.score(x_val_red, y_val_red)\n",
    "print(\"Validation score: \", knn_rfe_val_score)"
   ]
  },
  {
   "cell_type": "code",
   "execution_count": null,
   "metadata": {
    "colab": {
     "base_uri": "https://localhost:8080/"
    },
    "id": "0DVlIGYPWmmK",
    "outputId": "d21ed7a1-777f-44fb-98f4-9cff5cfb7f1e"
   },
   "outputs": [
    {
     "name": "stdout",
     "output_type": "stream",
     "text": [
      "Best Hyperparameters: {'weights': 'distance', 'p': 2, 'n_neighbors': 5}\n",
      "Randomized Search Model Scores (CV on validation set): 0.253733197611256\n",
      "Final Model Scores (test set):  0.21525191803590138\n"
     ]
    }
   ],
   "source": [
    "# Hyperparameter tunning\n",
    "knn = KNeighborsRegressor()\n",
    "\n",
    "knn_param_grid = {'n_neighbors': [3, 5, 7], \n",
    "              'weights': ['uniform', 'distance'],\n",
    "              'p': [1, 2, 3]}\n",
    "knn_random_search = RandomizedSearchCV(knn, knn_param_grid, n_iter=10, cv=None)\n",
    "knn_random_search.fit(x_train_red, y_train_red)\n",
    "\n",
    "\n",
    "print(\"Best Hyperparameters:\", knn_random_search.best_params_)\n",
    "knn_scores = knn_random_search.best_estimator_.score(x_val_red, y_val_red)\n",
    "print(\"Randomized Search Model Scores (CV on validation set):\", knn_scores)\n",
    "print(\"Final Model Scores (test set): \", knn_random_search.best_estimator_.score(x_test_red, y_test_red))"
   ]
  },
  {
   "cell_type": "markdown",
   "metadata": {
    "id": "WnN9NQwY6hGx"
   },
   "source": [
    "### SVR"
   ]
  },
  {
   "cell_type": "code",
   "execution_count": null,
   "metadata": {
    "colab": {
     "base_uri": "https://localhost:8080/"
    },
    "id": "XdG0x7OB6iKX",
    "outputId": "043fc934-3d41-4106-8f2b-60379e96dda2"
   },
   "outputs": [
    {
     "name": "stderr",
     "output_type": "stream",
     "text": [
      "/usr/local/lib/python3.8/dist-packages/sklearn/utils/validation.py:993: DataConversionWarning: A column-vector y was passed when a 1d array was expected. Please change the shape of y to (n_samples, ), for example using ravel().\n",
      "  y = column_or_1d(y, warn=True)\n"
     ]
    },
    {
     "name": "stdout",
     "output_type": "stream",
     "text": [
      "Validation score:  0.34113289244493483\n"
     ]
    }
   ],
   "source": [
    "# Score the model on reduced features\n",
    "svr_rfesc = SVR()\n",
    "svr_rfesc.fit(x_train_red, y_train_red)\n",
    "\n",
    "svr_rfe_val_score = svr_rfesc.score(x_val_red, y_val_red)\n",
    "print(\"Validation score: \", svr_rfe_val_score)"
   ]
  },
  {
   "cell_type": "code",
   "execution_count": null,
   "metadata": {
    "colab": {
     "base_uri": "https://localhost:8080/"
    },
    "id": "kWRxrF6JToD2",
    "outputId": "5156e920-d67e-44c2-8d7a-eb33a63d27fb"
   },
   "outputs": [
    {
     "name": "stdout",
     "output_type": "stream",
     "text": [
      "Best Hyperparameters: {'kernel': 'linear', 'gamma': 1000.0, 'C': 0.1}\n",
      "Randomized Search Model Scores (CV on validation set): -0.04970651341886567\n",
      "Final Model Scores (test set):  -0.047410874681277804\n"
     ]
    }
   ],
   "source": [
    "# Hyperparameter tuning\n",
    "svr = SVR()\n",
    "\n",
    "svr_param_grid = {'C': np.logspace(-3, 3, 7), \n",
    "              'kernel': ['linear', 'rbf'], \n",
    "              'gamma': np.logspace(-3, 3, 7)}\n",
    "\n",
    "svr_random_search = RandomizedSearchCV(svr, svr_param_grid, n_iter=10, cv=None)\n",
    "\n",
    "svr_random_search.fit(x_train_red, y_train_red)\n",
    "\n",
    "\n",
    "print(\"Best Hyperparameters:\", svr_random_search.best_params_)\n",
    "svr_scores = svr_random_search.best_estimator_.score(x_val_red, y_val_red)\n",
    "print(\"Randomized Search Model Scores (CV on validation set):\", svr_scores)\n",
    "print(\"Final Model Scores (test set): \", svr_random_search.best_estimator_.score(x_test_red, y_test_red))"
   ]
  },
  {
   "cell_type": "markdown",
   "metadata": {
    "id": "EHeAMTmg6pv0"
   },
   "source": [
    "### RFR"
   ]
  },
  {
   "cell_type": "code",
   "execution_count": null,
   "metadata": {
    "colab": {
     "base_uri": "https://localhost:8080/"
    },
    "id": "lZrdV8MV6u1S",
    "outputId": "849a7232-ac8c-4caf-83e0-bb56b43f8ec6"
   },
   "outputs": [
    {
     "name": "stderr",
     "output_type": "stream",
     "text": [
      "<ipython-input-12-8f38b1078338>:3: DataConversionWarning: A column-vector y was passed when a 1d array was expected. Please change the shape of y to (n_samples,), for example using ravel().\n",
      "  rfr_rfesc.fit(x_train_red, y_train)\n"
     ]
    },
    {
     "name": "stdout",
     "output_type": "stream",
     "text": [
      "Validation score:  0.4349473606140928\n"
     ]
    }
   ],
   "source": [
    "# Score the model on reduced features\n",
    "rfr_rfesc = RandomForestRegressor()\n",
    "rfr_rfesc.fit(x_train_red, y_train)\n",
    "\n",
    "rfr_rfe_val_score = rfr_rfesc.score(x_val_red, y_val_red)\n",
    "print(\"Validation score: \", rfr_rfe_val_score)"
   ]
  },
  {
   "cell_type": "code",
   "execution_count": null,
   "metadata": {
    "colab": {
     "base_uri": "https://localhost:8080/"
    },
    "id": "X8n3tqQNVA-p",
    "outputId": "e6cd8899-e288-47d3-ee63-000979b81545"
   },
   "outputs": [
    {
     "name": "stdout",
     "output_type": "stream",
     "text": [
      "Best Hyperparameters: {'n_estimators': 2000, 'min_samples_split': 2, 'min_samples_leaf': 2, 'max_features': 'sqrt', 'max_depth': None, 'bootstrap': False}\n",
      "Randomized Search Model Scores (CV on validation set): 0.3664774782984801\n",
      "Final Model Scores (test set):  0.3612198991727821\n"
     ]
    }
   ],
   "source": [
    "# Hyperparameter tuning\n",
    "rfr = RandomForestRegressor()\n",
    "rf_param_grid = {\"bootstrap\": [True, False],\n",
    "                  \"max_depth\": [10, 20, 30, 40, 50, 60, 70, 80, 90, 100, None],\n",
    "                  \"max_features\": ['sqrt'],\n",
    "                  \"min_samples_leaf\": [1, 2, 4],\n",
    "                  \"min_samples_split\": [2, 5, 10],\n",
    "                  \"n_estimators\": [200, 400, 600, 800, 1000, 1200, 1400, 1600, 1800, 2000]}\n",
    "\n",
    "rf_random_search = RandomizedSearchCV(rfr, rf_param_grid, n_iter=10, cv=None)\n",
    "rf_random_search.fit(x_train_red, y_train_red)\n",
    "\n",
    "print(\"Best Hyperparameters:\", rf_random_search.best_params_)\n",
    "rf_scores = rf_random_search.best_estimator_.score(x_val_red, y_val_red)\n",
    "print(\"Randomized Search Model Scores (CV on validation set):\", rf_scores)\n",
    "print(\"Final Model Scores (test set): \", rf_random_search.best_estimator_.score(x_test_red, y_test_red))"
   ]
  },
  {
   "cell_type": "markdown",
   "metadata": {
    "id": "owRRnAnV4Nke"
   },
   "source": [
    "## Critical analysis of the ML models\n",
    "\n",
    "The input data was selected, removing the categorical data (protein sequence) and the target feature. The output data was added as a new variable and all the data was scaled, ensuring that all features of the dataset are on the same scale and have similar properties. This is important because many machine learning algorithms use the scale of the input features to weight their importance. After this step, the data was divided in a training, testing and validation set, to improve results in the finetuning of the model. As the initial dataset with all the descriptors is heavy, the group decided to save the data divisions to avoid reading the dataset at every run. This also aids in the reproducibility and comparision of the ML results.\n",
    "\n",
    "In order to have a baseline for the comparision of the models, they were trained with the complete training set, meaning that no feature selection techniques were applied. For this step, the best obtained score was of 0.503 for the XGBoost Regressor. As such, due to the prolonged running times we executed SelectKBest in this model with GridSearchCV to verify the best number of features to train the model.\n",
    "\n",
    "When compared to the mean score of the baseline models, all the models trained with reduced features had similar scores: XGB (Mean for the baseline: 0.439; Feature selection: 0.466); SVR (0,315; 0.341); RFM (0.430; 0.435); KNN (0.201 ;0.250). The score similarity between the models trained with all features and feature selection means that the feature selection is not affecting the model performance negatively. As such, the selected features are representative of the underlying data structure, and the model is able to generalize well to new data. This can also be a sign that the model is not overfitting.\n",
    "\n",
    "After optimization of the hyperparametrs, the scores of the models also didn't present significant additional improvement. In fact, most models' score lowered (XGB (Feature selection: 0.466; Hyperparameter tunning: 0.403); RF (0.435; 0.361); KNN (0.250; 0.215); SVR (0.3413;-0.047)). With small changes in the score of the XGB and KNN and more drastic changes with the RF and the SVR model, the last one significantly decreased. This means that models' performance decreased with the addition of hyperparameters. This can be due to several reasons, such as overfitting, choosing inappropriate hyperparameters or that the model is is not generalizing well to new data.\n",
    "\n",
    "For this analysis, the group infered that the best performing models is the XGBoost-Regressor model, when trained with the complete dataset.\n",
    "\n"
   ]
  },
  {
   "cell_type": "markdown",
   "metadata": {
    "id": "FFZhXZhEPjGO"
   },
   "source": [
    "## Deep-Learning Analysis\n",
    "\n",
    "In this section, we perform deep learning analysis using Long Short-Term Memory (LSTM) and Convolutional 1D (CNN1D) networks. We optimize the hyperparameters of these models using GridSearchCV and EarlyStop to obtain the best results. Before conducting the analysis with the CNN1D model, we reshape the data to fit the required input format. This section is organized by models, with each having a separte subsection where we first train a baseline model with the standard hyperparameter and then procede to hyperparameter optimization. The group would also like to make a disclaimer that due to deprecation warnings and extended outputs some of these were cleared and the relevant information was inserted in a Markdown cell to keep the notebook clean."
   ]
  },
  {
   "cell_type": "code",
   "execution_count": null,
   "metadata": {
    "id": "GXy4rwwyVU0e"
   },
   "outputs": [],
   "source": [
    "# imports\n",
    "import numpy as np\n",
    "import pandas as pd\n",
    "from keras.models import Sequential\n",
    "from keras.layers import LSTM, Dense, Conv1D, MaxPooling1D, Flatten, Dropout\n",
    "from sklearn.metrics import r2_score\n",
    "from keras.optimizers import Adam\n",
    "from keras.wrappers.scikit_learn import KerasRegressor\n",
    "from sklearn.model_selection import GridSearchCV\n",
    "from keras.callbacks import EarlyStopping"
   ]
  },
  {
   "cell_type": "markdown",
   "metadata": {
    "id": "ljTEA6_yW_Qd"
   },
   "source": [
    "### LSTM Model"
   ]
  },
  {
   "cell_type": "markdown",
   "source": [
    "#### Baseline"
   ],
   "metadata": {
    "id": "ruO5uio7M_dm"
   }
  },
  {
   "cell_type": "code",
   "execution_count": null,
   "metadata": {
    "colab": {
     "base_uri": "https://localhost:8080/"
    },
    "id": "OWYstGnTWwxW",
    "outputId": "c02e61a4-09d4-4881-99ef-a68724419be5"
   },
   "outputs": [
    {
     "name": "stderr",
     "output_type": "stream",
     "text": [
      "/usr/local/lib/python3.8/dist-packages/keras/optimizers/optimizer_v2/adam.py:110: UserWarning: The `lr` argument is deprecated, use `learning_rate` instead.\n",
      "  super(Adam, self).__init__(name, **kwargs)\n"
     ]
    },
    {
     "name": "stdout",
     "output_type": "stream",
     "text": [
      "Epoch 1/10\n",
      "201/201 [==============================] - 657s 3s/step - loss: 0.9854 - val_loss: 0.9363\n",
      "Epoch 2/10\n",
      "201/201 [==============================] - 640s 3s/step - loss: 0.9687 - val_loss: 0.9071\n",
      "Epoch 3/10\n",
      "201/201 [==============================] - 659s 3s/step - loss: 0.9510 - val_loss: 0.9406\n",
      "Epoch 4/10\n",
      "201/201 [==============================] - 647s 3s/step - loss: 0.9355 - val_loss: 0.8971\n",
      "Epoch 5/10\n",
      "201/201 [==============================] - 650s 3s/step - loss: 0.9214 - val_loss: 0.8585\n",
      "Epoch 6/10\n",
      "201/201 [==============================] - 649s 3s/step - loss: 0.9139 - val_loss: 0.8642\n",
      "Epoch 7/10\n",
      "201/201 [==============================] - 649s 3s/step - loss: 0.9017 - val_loss: 0.8454\n",
      "Epoch 8/10\n",
      "201/201 [==============================] - 652s 3s/step - loss: 0.8957 - val_loss: 0.8388\n",
      "Epoch 9/10\n",
      "201/201 [==============================] - 648s 3s/step - loss: 0.8872 - val_loss: 0.8391\n",
      "Epoch 10/10\n",
      "201/201 [==============================] - 662s 3s/step - loss: 0.8835 - val_loss: 0.8390\n",
      "28/28 [==============================] - 24s 846ms/step\n",
      "R-squared score on test data:  0.10829091461967733\n"
     ]
    }
   ],
   "source": [
    "# Define LSTM model\n",
    "model = Sequential()\n",
    "model.add(LSTM(units=50, input_shape=(x_train.shape[1], 1)))\n",
    "model.add(Dense(1, activation='linear'))\n",
    "\n",
    "model.compile(loss='mean_squared_error', optimizer=Adam(lr=0.001))\n",
    "\n",
    "# Train the model\n",
    "history = model.fit(x_train, y_train, epochs=10, batch_size=32, validation_data=(x_val, y_val))\n",
    "\n",
    "# Evaluate the model\n",
    "y_pred = model.predict(x_test)\n",
    "r2 = r2_score(y_test, y_pred)\n",
    "print(\"R-squared score on test data: \", r2)"
   ]
  },
  {
   "cell_type": "markdown",
   "source": [
    "#### Hyperparameter optimization"
   ],
   "metadata": {
    "id": "smmSAlBCNBqx"
   }
  },
  {
   "cell_type": "code",
   "execution_count": null,
   "metadata": {
    "id": "xao0X6p8Y54D"
   },
   "outputs": [],
   "source": [
    "# Hyperparameter optimization\n",
    "def create_LSTMmodel(units=30, lr=0.001):\n",
    "    model = Sequential()\n",
    "    model.add(LSTM(units=units, input_shape=(x_train.shape[1], 1)))\n",
    "    model.add(Dense(1, activation='linear'))\n",
    "    model.compile(loss='mean_squared_error', optimizer=Adam(learning_rate=lr))\n",
    "    return model\n",
    "\n",
    "param_grid = {'units': [30, 60, 100]}\n",
    "\n",
    "model = KerasRegressor(build_fn=create_LSTMmodel)\n",
    "\n",
    "grid_search = GridSearchCV(estimator=model, param_grid=param_grid, scoring='r2', cv=None, verbose=0)\n",
    "grid_search.fit(x_train, y_train, epochs=5, batch_size=256, validation_data=(x_val, y_val), verbose=0)\n",
    "\n",
    "# Print the best hyperparameters and the final scores on the validation and test sets\n",
    "print(\"Best Hyperparameters:\", grid_search.best_params_)\n",
    "print(\"Final Model Scores (validation set): \", grid_search.score(x_val, y_val))\n",
    "print(\"Final Model Scores (test set): \", grid_search.score(x_test, y_test))"
   ]
  },
  {
   "cell_type": "markdown",
   "source": [
    "Best Hyperparameters: {'units': 60}\n",
    "Final Model Scores (validation set):  0.014115848518208907\n",
    "Final Model Scores (test set):  0.013321952578419505"
   ],
   "metadata": {
    "id": "inTtoIQLJ821"
   }
  },
  {
   "cell_type": "markdown",
   "metadata": {
    "id": "2YW4xJiXYr3w"
   },
   "source": [
    "### CNN Model"
   ]
  },
  {
   "cell_type": "code",
   "execution_count": null,
   "metadata": {
    "id": "3Dl7E02fjD10"
   },
   "outputs": [],
   "source": [
    "#Reshape data\n",
    "x_train = x_train.values\n",
    "x_val = x_val.values\n",
    "x_test = x_test.values\n",
    "x_train = np.reshape(x_train, (x_train.shape[0], x_train.shape[1], 1))\n",
    "x_val = np.reshape(x_val, (x_val.shape[0], x_val.shape[1], 1))\n",
    "x_test = np.reshape(x_test, (x_test.shape[0], x_test.shape[1], 1))"
   ]
  },
  {
   "cell_type": "markdown",
   "source": [
    "#### Baseline model"
   ],
   "metadata": {
    "id": "ON2LbZDTNI2Y"
   }
  },
  {
   "cell_type": "code",
   "execution_count": null,
   "metadata": {
    "colab": {
     "base_uri": "https://localhost:8080/"
    },
    "id": "U44cAkq4Ywli",
    "outputId": "19afd0b2-1426-4b8d-cd42-b2251f187418"
   },
   "outputs": [
    {
     "name": "stderr",
     "output_type": "stream",
     "text": [
      "/usr/local/lib/python3.8/dist-packages/keras/optimizers/optimizer_v2/adam.py:110: UserWarning: The `lr` argument is deprecated, use `learning_rate` instead.\n",
      "  super(Adam, self).__init__(name, **kwargs)\n"
     ]
    },
    {
     "name": "stdout",
     "output_type": "stream",
     "text": [
      "Epoch 1/10\n",
      "115/115 [==============================] - 19s 156ms/step - loss: 5.7337 - val_loss: 1.5357\n",
      "Epoch 2/10\n",
      "115/115 [==============================] - 18s 155ms/step - loss: 2.0982 - val_loss: 1.0482\n",
      "Epoch 3/10\n",
      "115/115 [==============================] - 18s 154ms/step - loss: 2.6053 - val_loss: 1.4443\n",
      "Epoch 4/10\n",
      "115/115 [==============================] - 18s 154ms/step - loss: 1.1579 - val_loss: 0.7494\n",
      "Epoch 5/10\n",
      "115/115 [==============================] - 18s 153ms/step - loss: 0.3596 - val_loss: 0.6733\n",
      "Epoch 6/10\n",
      "115/115 [==============================] - 18s 154ms/step - loss: 0.3070 - val_loss: 0.7087\n",
      "Epoch 7/10\n",
      "115/115 [==============================] - 18s 153ms/step - loss: 0.3153 - val_loss: 0.7587\n",
      "Epoch 8/10\n",
      "115/115 [==============================] - 18s 154ms/step - loss: 0.3394 - val_loss: 0.7706\n",
      "Epoch 9/10\n",
      "115/115 [==============================] - 18s 153ms/step - loss: 0.3645 - val_loss: 0.7550\n",
      "Epoch 10/10\n",
      "115/115 [==============================] - 17s 152ms/step - loss: 0.3440 - val_loss: 0.7974\n",
      "28/28 [==============================] - 1s 46ms/step\n",
      "R-squared score on test data:  0.20162906604921316\n"
     ]
    }
   ],
   "source": [
    "# Define 1D Convolutional model\n",
    "model = Sequential()\n",
    "model.add(Conv1D(filters=32, kernel_size=3, activation='relu', input_shape=(x_train.shape[1], 1)))\n",
    "model.add(MaxPooling1D(pool_size=2))\n",
    "model.add(Flatten())\n",
    "model.add(Dense(1, activation='linear'))\n",
    "\n",
    "model.compile(loss='mean_squared_error', optimizer=Adam(lr=0.001))\n",
    "\n",
    "# Reshape data to 3D for 1D Convolution\n",
    "x_train = np.expand_dims(x_train, axis=2)\n",
    "x_val = np.expand_dims(x_val, axis=2)\n",
    "x_test = np.expand_dims(x_test, axis=2)\n",
    "\n",
    "# Train the model\n",
    "history = model.fit(x_train, y_train, epochs=10, batch_size=32, validation_data=(x_val, y_val))\n",
    "\n",
    "# Evaluate the model\n",
    "y_pred = model.predict(x_test)\n",
    "r2 = r2_score(y_test, y_pred)\n",
    "print(\"R-squared score on test data: \", r2)"
   ]
  },
  {
   "cell_type": "markdown",
   "source": [
    "#### Hyperparameter optimization"
   ],
   "metadata": {
    "id": "bAtR1yDJNKru"
   }
  },
  {
   "cell_type": "code",
   "execution_count": null,
   "metadata": {
    "id": "rvaoAmwreS1H"
   },
   "outputs": [],
   "source": [
    "# Hyperparameter optimization\n",
    "def create_Conv1Dmodel(filters=32, kernel_size=3, lr=0.001):\n",
    "    model = Sequential()\n",
    "    model.add(Conv1D(filters=filters, kernel_size=kernel_size, activation='relu', input_shape=(x_train.shape[1], 1)))\n",
    "    model.add(MaxPooling1D(pool_size=2))\n",
    "    model.add(Flatten())\n",
    "    model.add(Dense(1, activation='linear'))\n",
    "    model.compile(loss='mean_squared_error',  optimizer=Adam(learning_rate=lr))\n",
    "    return model\n",
    "\n",
    "param_grid = {'filters': [32, 64],\n",
    "              'kernel_size': [2, 4]}\n",
    "\n",
    "model = KerasRegressor(build_fn=create_Conv1Dmodel)\n",
    "\n",
    "grid_search = GridSearchCV(estimator=model, param_grid=param_grid, scoring='r2', cv=None, verbose=0)\n",
    "grid_search.fit(x_train, y_train, epochs=5, batch_size=256)\n",
    "\n",
    "# Print the best hyperparameters and the final scores on the validation and test sets\n",
    "print(\"Best Hyperparameters:\", grid_search.best_params_)\n",
    "print(\"Final Model Scores (validation set): \", grid_search.score(x_val, y_val))\n",
    "print(\"Final Model Scores (test set): \", grid_search.score(x_test, y_test))"
   ]
  },
  {
   "cell_type": "markdown",
   "source": [
    "Best Hyperparameters: {'filters': 32, 'kernel_size': 2}\n",
    "Final Model Scores (validation set):  -0.768415778974155\n",
    "Final Model Scores (test set):  -0.6947783487960033"
   ],
   "metadata": {
    "id": "Agi9F1evLzP8"
   }
  },
  {
   "cell_type": "markdown",
   "metadata": {
    "id": "OZex9GLPeTFg"
   },
   "source": [
    "### Critical analysis of the results\n",
    "\n",
    "For the DL analysis, the group was already expecting the scores of the models to be suboptimal. The reasoning behind this is that DL algorithms are more complex than traditional ML models due to the use of multiple non-linear transformations and complex network architectures. As a result, DL models require more data to learn complex patterns and generalize these relationships to new, unseen data to make accurate predictions. For the baseline models, the CNN model (0.202) scored better that the LSTM model (0.108); while for the model subjected to hyperparameter optimization, the scores were dramatically lower (0.013 for the LSTM model and -0.700 for the CNN model). For the hyperparameter grid in both models, the initially defined grid was more extensive, with a higher number of combinations of parameters. The initial number of epochs was 100 with an implemented EarlyStopping of patience 15. However, the running time of these models was extensive. As such, the parameter grid for these models and the epochs were reduced and the EarlyPatience was removed. Although several values were defined in the parameter grid, later batch size was defined to a sole value of 32 and then changed to 256 to accelerate running time. \n",
    "\n",
    "In an analysis with more time, more parameters could have been added to further evaluate the model performance and optimize the obtained scores."
   ]
  }
 ],
 "metadata": {
  "colab": {
   "collapsed_sections": [
    "-T8DHqfU1FF0",
    "Oc9tRujH1FF2",
    "GDAcBGBtYZX1",
    "z6LiIbXqXqZ8",
    "mLC_o2vO1FGA",
    "kjfjtKxzXvLx",
    "kaMW7ilI-7ik",
    "FF7c6CkB1FGI",
    "cueEEakDXz0F",
    "geaJ2gly1FGM",
    "Y_5br5eq1FGN",
    "D-5My-4oX2da",
    "FSi7KYl-X-Fh",
    "wxb-_iBDYBq-",
    "xq9TZPi71FGO"
   ],
   "provenance": []
  },
  "kernelspec": {
   "display_name": "Python 3",
   "name": "python3"
  },
  "language_info": {
   "name": "python"
  }
 },
 "nbformat": 4,
 "nbformat_minor": 0
}
